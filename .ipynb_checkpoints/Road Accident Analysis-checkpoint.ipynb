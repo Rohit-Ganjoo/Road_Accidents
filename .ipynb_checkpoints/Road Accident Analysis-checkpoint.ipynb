{
 "cells": [
  {
   "cell_type": "code",
   "execution_count": 3,
   "metadata": {},
   "outputs": [],
   "source": [
    "import numpy as np \n",
    "import pandas as pd\n",
    "import seaborn as sns\n",
    "import matplotlib.pyplot as plt"
   ]
  },
  {
   "cell_type": "code",
   "execution_count": null,
   "metadata": {},
   "outputs": [],
   "source": [
    "# Load the data from the csv file:\n",
    "data = pd.read_csv(\"C:/Users/zeus/Desktop/Git Repositories/Road_Accidents/Road Accident Data.csv\")"
   ]
  },
  {
   "cell_type": "code",
   "execution_count": null,
   "metadata": {},
   "outputs": [],
   "source": [
    "data.head(100)"
   ]
  },
  {
   "cell_type": "code",
   "execution_count": 6,
   "metadata": {},
   "outputs": [
    {
     "name": "stdout",
     "output_type": "stream",
     "text": [
      "<class 'pandas.core.frame.DataFrame'>\n",
      "RangeIndex: 307973 entries, 0 to 307972\n",
      "Data columns (total 21 columns):\n",
      " #   Column                      Non-Null Count   Dtype  \n",
      "---  ------                      --------------   -----  \n",
      " 0   Accident_Index              307972 non-null  object \n",
      " 1   Accident Date               307973 non-null  object \n",
      " 2   Day_of_Week                 307973 non-null  object \n",
      " 3   Junction_Control            307973 non-null  object \n",
      " 4   Junction_Detail             307973 non-null  object \n",
      " 5   Accident_Severity           307973 non-null  object \n",
      " 6   Latitude                    307973 non-null  float64\n",
      " 7   Longitude                   307973 non-null  float64\n",
      " 8   Light_Conditions            307973 non-null  object \n",
      " 9   Local_Authority_(District)  307973 non-null  object \n",
      " 10  Carriageway_Hazards         307973 non-null  object \n",
      " 11  Number_of_Casualties        307973 non-null  int64  \n",
      " 12  Number_of_Vehicles          307973 non-null  int64  \n",
      " 13  Police_Force                307973 non-null  object \n",
      " 14  Road_Surface_Conditions     307973 non-null  object \n",
      " 15  Road_Type                   306448 non-null  object \n",
      " 16  Speed_limit                 307973 non-null  int64  \n",
      " 17  Time                        307973 non-null  object \n",
      " 18  Urban_or_Rural_Area         307973 non-null  object \n",
      " 19  Weather_Conditions          307973 non-null  object \n",
      " 20  Vehicle_Type                307973 non-null  object \n",
      "dtypes: float64(2), int64(3), object(16)\n",
      "memory usage: 49.3+ MB\n"
     ]
    }
   ],
   "source": [
    "data.info()"
   ]
  },
  {
   "cell_type": "code",
   "execution_count": 7,
   "metadata": {},
   "outputs": [],
   "source": [
    "data['Accident Date'] = pd.to_datetime(data['Accident Date'],format = \"%d-%m-%Y\")\n",
    "data['Time'] = pd.to_datetime(data['Time'],format='%H:%M')"
   ]
  },
  {
   "cell_type": "code",
   "execution_count": 8,
   "metadata": {},
   "outputs": [
    {
     "name": "stdout",
     "output_type": "stream",
     "text": [
      "<class 'pandas.core.frame.DataFrame'>\n",
      "RangeIndex: 307973 entries, 0 to 307972\n",
      "Data columns (total 21 columns):\n",
      " #   Column                      Non-Null Count   Dtype         \n",
      "---  ------                      --------------   -----         \n",
      " 0   Accident_Index              307972 non-null  object        \n",
      " 1   Accident Date               307973 non-null  datetime64[ns]\n",
      " 2   Day_of_Week                 307973 non-null  object        \n",
      " 3   Junction_Control            307973 non-null  object        \n",
      " 4   Junction_Detail             307973 non-null  object        \n",
      " 5   Accident_Severity           307973 non-null  object        \n",
      " 6   Latitude                    307973 non-null  float64       \n",
      " 7   Longitude                   307973 non-null  float64       \n",
      " 8   Light_Conditions            307973 non-null  object        \n",
      " 9   Local_Authority_(District)  307973 non-null  object        \n",
      " 10  Carriageway_Hazards         307973 non-null  object        \n",
      " 11  Number_of_Casualties        307973 non-null  int64         \n",
      " 12  Number_of_Vehicles          307973 non-null  int64         \n",
      " 13  Police_Force                307973 non-null  object        \n",
      " 14  Road_Surface_Conditions     307973 non-null  object        \n",
      " 15  Road_Type                   306448 non-null  object        \n",
      " 16  Speed_limit                 307973 non-null  int64         \n",
      " 17  Time                        307973 non-null  datetime64[ns]\n",
      " 18  Urban_or_Rural_Area         307973 non-null  object        \n",
      " 19  Weather_Conditions          307973 non-null  object        \n",
      " 20  Vehicle_Type                307973 non-null  object        \n",
      "dtypes: datetime64[ns](2), float64(2), int64(3), object(14)\n",
      "memory usage: 49.3+ MB\n"
     ]
    }
   ],
   "source": [
    "data.info()"
   ]
  },
  {
   "cell_type": "code",
   "execution_count": 9,
   "metadata": {},
   "outputs": [
    {
     "data": {
      "text/plain": [
       "Accident_Index                   1\n",
       "Accident Date                    0\n",
       "Day_of_Week                      0\n",
       "Junction_Control                 0\n",
       "Junction_Detail                  0\n",
       "Accident_Severity                0\n",
       "Latitude                         0\n",
       "Longitude                        0\n",
       "Light_Conditions                 0\n",
       "Local_Authority_(District)       0\n",
       "Carriageway_Hazards              0\n",
       "Number_of_Casualties             0\n",
       "Number_of_Vehicles               0\n",
       "Police_Force                     0\n",
       "Road_Surface_Conditions          0\n",
       "Road_Type                     1525\n",
       "Speed_limit                      0\n",
       "Time                             0\n",
       "Urban_or_Rural_Area              0\n",
       "Weather_Conditions               0\n",
       "Vehicle_Type                     0\n",
       "dtype: int64"
      ]
     },
     "execution_count": 9,
     "metadata": {},
     "output_type": "execute_result"
    }
   ],
   "source": [
    "data.isnull().sum()\n",
    "# Data set has 1525 Null value in Road_Type column and 1 Accident_Index column which is null. "
   ]
  },
  {
   "cell_type": "code",
   "execution_count": 10,
   "metadata": {},
   "outputs": [],
   "source": [
    "data['Road_Type'].replace('null', np.nan, inplace=True)\n",
    "data['Road_Type'].fillna(data['Road_Type'].mode().iloc[0], inplace=True)"
   ]
  },
  {
   "cell_type": "code",
   "execution_count": 11,
   "metadata": {},
   "outputs": [
    {
     "data": {
      "text/plain": [
       "Accident_Index                1\n",
       "Accident Date                 0\n",
       "Day_of_Week                   0\n",
       "Junction_Control              0\n",
       "Junction_Detail               0\n",
       "Accident_Severity             0\n",
       "Latitude                      0\n",
       "Longitude                     0\n",
       "Light_Conditions              0\n",
       "Local_Authority_(District)    0\n",
       "Carriageway_Hazards           0\n",
       "Number_of_Casualties          0\n",
       "Number_of_Vehicles            0\n",
       "Police_Force                  0\n",
       "Road_Surface_Conditions       0\n",
       "Road_Type                     0\n",
       "Speed_limit                   0\n",
       "Time                          0\n",
       "Urban_or_Rural_Area           0\n",
       "Weather_Conditions            0\n",
       "Vehicle_Type                  0\n",
       "dtype: int64"
      ]
     },
     "execution_count": 11,
     "metadata": {},
     "output_type": "execute_result"
    }
   ],
   "source": [
    "data.isnull().sum()"
   ]
  },
  {
   "cell_type": "code",
   "execution_count": 12,
   "metadata": {},
   "outputs": [
    {
     "data": {
      "text/plain": [
       "Weather_Conditions\n",
       "Clear      247644\n",
       "Raining     38403\n",
       "Other       14859\n",
       "Snowy        5377\n",
       "Foggy        1690\n",
       "Name: count, dtype: int64"
      ]
     },
     "execution_count": 12,
     "metadata": {},
     "output_type": "execute_result"
    }
   ],
   "source": [
    "data['Weather_Conditions'].value_counts()"
   ]
  },
  {
   "cell_type": "code",
   "execution_count": 13,
   "metadata": {},
   "outputs": [
    {
     "data": {
      "text/plain": [
       "Vehicle_Type\n",
       "Cars                       245337\n",
       "Vans and Goods Vehicles     24729\n",
       "Heavy Motorcycles           14511\n",
       "Small Vehicles              10555\n",
       "Public Transport             9507\n",
       "Other vehicle                2516\n",
       "Specialized Vehicles          752\n",
       "Bicycle                        66\n",
       "Name: count, dtype: int64"
      ]
     },
     "execution_count": 13,
     "metadata": {},
     "output_type": "execute_result"
    }
   ],
   "source": [
    "data['Vehicle_Type'].value_counts()"
   ]
  },
  {
   "cell_type": "code",
   "execution_count": null,
   "metadata": {},
   "outputs": [],
   "source": [
    "total_count = data['Vehicle_Type'].sum()\n",
    "total_count"
   ]
  },
  {
   "cell_type": "code",
   "execution_count": null,
   "metadata": {},
   "outputs": [],
   "source": []
  }
 ],
 "metadata": {
  "kernelspec": {
   "display_name": "Python 3 (ipykernel)",
   "language": "python",
   "name": "python3"
  },
  "language_info": {
   "codemirror_mode": {
    "name": "ipython",
    "version": 3
   },
   "file_extension": ".py",
   "mimetype": "text/x-python",
   "name": "python",
   "nbconvert_exporter": "python",
   "pygments_lexer": "ipython3",
   "version": "3.11.5"
  }
 },
 "nbformat": 4,
 "nbformat_minor": 2
}

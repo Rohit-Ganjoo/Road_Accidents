{
 "cells": [
  {
   "cell_type": "code",
   "execution_count": 2,
   "metadata": {},
   "outputs": [],
   "source": [
    "import numpy as np \n",
    "import pandas as pd\n",
    "import seaborn as sns\n",
    "import matplotlib.pyplot as plt"
   ]
  },
  {
   "cell_type": "code",
   "execution_count": 12,
   "metadata": {},
   "outputs": [],
   "source": [
    "# Load the data from the csv file:\n",
    "data = pd.read_csv(\"C:/Users/zeus/Desktop/Git Repositories/Road_Accidents/Road Accident Data.csv\")"
   ]
  },
  {
   "cell_type": "code",
   "execution_count": 13,
   "metadata": {},
   "outputs": [
    {
     "data": {
      "text/html": [
       "<div>\n",
       "<style scoped>\n",
       "    .dataframe tbody tr th:only-of-type {\n",
       "        vertical-align: middle;\n",
       "    }\n",
       "\n",
       "    .dataframe tbody tr th {\n",
       "        vertical-align: top;\n",
       "    }\n",
       "\n",
       "    .dataframe thead th {\n",
       "        text-align: right;\n",
       "    }\n",
       "</style>\n",
       "<table border=\"1\" class=\"dataframe\">\n",
       "  <thead>\n",
       "    <tr style=\"text-align: right;\">\n",
       "      <th></th>\n",
       "      <th>Accident_Index</th>\n",
       "      <th>Accident Date</th>\n",
       "      <th>Day_of_Week</th>\n",
       "      <th>Junction_Control</th>\n",
       "      <th>Junction_Detail</th>\n",
       "      <th>Accident_Severity</th>\n",
       "      <th>Latitude</th>\n",
       "      <th>Longitude</th>\n",
       "      <th>Light_Conditions</th>\n",
       "      <th>Local_Authority_(District)</th>\n",
       "      <th>...</th>\n",
       "      <th>Number_of_Casualties</th>\n",
       "      <th>Number_of_Vehicles</th>\n",
       "      <th>Police_Force</th>\n",
       "      <th>Road_Surface_Conditions</th>\n",
       "      <th>Road_Type</th>\n",
       "      <th>Speed_limit</th>\n",
       "      <th>Time</th>\n",
       "      <th>Urban_or_Rural_Area</th>\n",
       "      <th>Weather_Conditions</th>\n",
       "      <th>Vehicle_Type</th>\n",
       "    </tr>\n",
       "  </thead>\n",
       "  <tbody>\n",
       "    <tr>\n",
       "      <th>0</th>\n",
       "      <td>200901BS70001</td>\n",
       "      <td>01-01-2021</td>\n",
       "      <td>Thursday</td>\n",
       "      <td>Give way or uncontrolled</td>\n",
       "      <td>T or staggered junction</td>\n",
       "      <td>Serious</td>\n",
       "      <td>51.512273</td>\n",
       "      <td>-0.201349</td>\n",
       "      <td>Daylight</td>\n",
       "      <td>Kensington and Chelsea</td>\n",
       "      <td>...</td>\n",
       "      <td>1</td>\n",
       "      <td>2</td>\n",
       "      <td>Metropolitan Police</td>\n",
       "      <td>Dry</td>\n",
       "      <td>One way street</td>\n",
       "      <td>30</td>\n",
       "      <td>15:11</td>\n",
       "      <td>Urban</td>\n",
       "      <td>Clear</td>\n",
       "      <td>Cars</td>\n",
       "    </tr>\n",
       "    <tr>\n",
       "      <th>1</th>\n",
       "      <td>200901BS70002</td>\n",
       "      <td>05-01-2021</td>\n",
       "      <td>Monday</td>\n",
       "      <td>Give way or uncontrolled</td>\n",
       "      <td>Crossroads</td>\n",
       "      <td>Serious</td>\n",
       "      <td>51.514399</td>\n",
       "      <td>-0.199248</td>\n",
       "      <td>Daylight</td>\n",
       "      <td>Kensington and Chelsea</td>\n",
       "      <td>...</td>\n",
       "      <td>11</td>\n",
       "      <td>2</td>\n",
       "      <td>Metropolitan Police</td>\n",
       "      <td>Wet</td>\n",
       "      <td>Single carriageway</td>\n",
       "      <td>30</td>\n",
       "      <td>10:59</td>\n",
       "      <td>Urban</td>\n",
       "      <td>Clear</td>\n",
       "      <td>Cars</td>\n",
       "    </tr>\n",
       "    <tr>\n",
       "      <th>2</th>\n",
       "      <td>200901BS70003</td>\n",
       "      <td>04-01-2021</td>\n",
       "      <td>Sunday</td>\n",
       "      <td>Give way or uncontrolled</td>\n",
       "      <td>T or staggered junction</td>\n",
       "      <td>Minor</td>\n",
       "      <td>51.486668</td>\n",
       "      <td>-0.179599</td>\n",
       "      <td>Daylight</td>\n",
       "      <td>Kensington and Chelsea</td>\n",
       "      <td>...</td>\n",
       "      <td>1</td>\n",
       "      <td>2</td>\n",
       "      <td>Metropolitan Police</td>\n",
       "      <td>Dry</td>\n",
       "      <td>Single carriageway</td>\n",
       "      <td>30</td>\n",
       "      <td>14:19</td>\n",
       "      <td>Urban</td>\n",
       "      <td>Clear</td>\n",
       "      <td>Cars</td>\n",
       "    </tr>\n",
       "    <tr>\n",
       "      <th>3</th>\n",
       "      <td>200901BS70004</td>\n",
       "      <td>05-01-2021</td>\n",
       "      <td>Monday</td>\n",
       "      <td>Auto traffic signal</td>\n",
       "      <td>T or staggered junction</td>\n",
       "      <td>Serious</td>\n",
       "      <td>51.507804</td>\n",
       "      <td>-0.203110</td>\n",
       "      <td>Daylight</td>\n",
       "      <td>Kensington and Chelsea</td>\n",
       "      <td>...</td>\n",
       "      <td>1</td>\n",
       "      <td>2</td>\n",
       "      <td>Metropolitan Police</td>\n",
       "      <td>Frosty</td>\n",
       "      <td>Single carriageway</td>\n",
       "      <td>30</td>\n",
       "      <td>08:10</td>\n",
       "      <td>Urban</td>\n",
       "      <td>Other</td>\n",
       "      <td>Heavy Motorcycles</td>\n",
       "    </tr>\n",
       "    <tr>\n",
       "      <th>4</th>\n",
       "      <td>200901BS70005</td>\n",
       "      <td>06-01-2021</td>\n",
       "      <td>Tuesday</td>\n",
       "      <td>Auto traffic signal</td>\n",
       "      <td>Crossroads</td>\n",
       "      <td>Serious</td>\n",
       "      <td>51.482076</td>\n",
       "      <td>-0.173445</td>\n",
       "      <td>Darkness</td>\n",
       "      <td>Kensington and Chelsea</td>\n",
       "      <td>...</td>\n",
       "      <td>1</td>\n",
       "      <td>2</td>\n",
       "      <td>Metropolitan Police</td>\n",
       "      <td>Dry</td>\n",
       "      <td>Single carriageway</td>\n",
       "      <td>30</td>\n",
       "      <td>17:25</td>\n",
       "      <td>Urban</td>\n",
       "      <td>Clear</td>\n",
       "      <td>Cars</td>\n",
       "    </tr>\n",
       "    <tr>\n",
       "      <th>...</th>\n",
       "      <td>...</td>\n",
       "      <td>...</td>\n",
       "      <td>...</td>\n",
       "      <td>...</td>\n",
       "      <td>...</td>\n",
       "      <td>...</td>\n",
       "      <td>...</td>\n",
       "      <td>...</td>\n",
       "      <td>...</td>\n",
       "      <td>...</td>\n",
       "      <td>...</td>\n",
       "      <td>...</td>\n",
       "      <td>...</td>\n",
       "      <td>...</td>\n",
       "      <td>...</td>\n",
       "      <td>...</td>\n",
       "      <td>...</td>\n",
       "      <td>...</td>\n",
       "      <td>...</td>\n",
       "      <td>...</td>\n",
       "      <td>...</td>\n",
       "    </tr>\n",
       "    <tr>\n",
       "      <th>95</th>\n",
       "      <td>200901BS70122</td>\n",
       "      <td>04-03-2021</td>\n",
       "      <td>Wednesday</td>\n",
       "      <td>Auto traffic signal</td>\n",
       "      <td>T or staggered junction</td>\n",
       "      <td>Minor</td>\n",
       "      <td>51.486622</td>\n",
       "      <td>-0.170814</td>\n",
       "      <td>Daylight</td>\n",
       "      <td>Kensington and Chelsea</td>\n",
       "      <td>...</td>\n",
       "      <td>1</td>\n",
       "      <td>2</td>\n",
       "      <td>Metropolitan Police</td>\n",
       "      <td>Wet</td>\n",
       "      <td>Single carriageway</td>\n",
       "      <td>30</td>\n",
       "      <td>07:05</td>\n",
       "      <td>Urban</td>\n",
       "      <td>Clear</td>\n",
       "      <td>Cars</td>\n",
       "    </tr>\n",
       "    <tr>\n",
       "      <th>96</th>\n",
       "      <td>200901BS70123</td>\n",
       "      <td>07-02-2021</td>\n",
       "      <td>Saturday</td>\n",
       "      <td>Give way or uncontrolled</td>\n",
       "      <td>Crossroads</td>\n",
       "      <td>Minor</td>\n",
       "      <td>51.504966</td>\n",
       "      <td>-0.194000</td>\n",
       "      <td>Daylight</td>\n",
       "      <td>Kensington and Chelsea</td>\n",
       "      <td>...</td>\n",
       "      <td>1</td>\n",
       "      <td>1</td>\n",
       "      <td>Metropolitan Police</td>\n",
       "      <td>Dry</td>\n",
       "      <td>Single carriageway</td>\n",
       "      <td>30</td>\n",
       "      <td>13:15</td>\n",
       "      <td>Urban</td>\n",
       "      <td>Other</td>\n",
       "      <td>Cars</td>\n",
       "    </tr>\n",
       "    <tr>\n",
       "      <th>97</th>\n",
       "      <td>200901BS70124</td>\n",
       "      <td>17-03-2021</td>\n",
       "      <td>Tuesday</td>\n",
       "      <td>Auto traffic signal</td>\n",
       "      <td>Crossroads</td>\n",
       "      <td>Minor</td>\n",
       "      <td>51.495660</td>\n",
       "      <td>-0.173766</td>\n",
       "      <td>Darkness</td>\n",
       "      <td>Kensington and Chelsea</td>\n",
       "      <td>...</td>\n",
       "      <td>1</td>\n",
       "      <td>1</td>\n",
       "      <td>Metropolitan Police</td>\n",
       "      <td>Dry</td>\n",
       "      <td>Single carriageway</td>\n",
       "      <td>30</td>\n",
       "      <td>23:00</td>\n",
       "      <td>Urban</td>\n",
       "      <td>Clear</td>\n",
       "      <td>Cars</td>\n",
       "    </tr>\n",
       "    <tr>\n",
       "      <th>98</th>\n",
       "      <td>200901BS70126</td>\n",
       "      <td>24-02-2021</td>\n",
       "      <td>Tuesday</td>\n",
       "      <td>Give way or uncontrolled</td>\n",
       "      <td>T or staggered junction</td>\n",
       "      <td>Serious</td>\n",
       "      <td>51.490535</td>\n",
       "      <td>-0.173827</td>\n",
       "      <td>Daylight</td>\n",
       "      <td>Kensington and Chelsea</td>\n",
       "      <td>...</td>\n",
       "      <td>1</td>\n",
       "      <td>2</td>\n",
       "      <td>Metropolitan Police</td>\n",
       "      <td>Dry</td>\n",
       "      <td>Single carriageway</td>\n",
       "      <td>30</td>\n",
       "      <td>08:00</td>\n",
       "      <td>Urban</td>\n",
       "      <td>Clear</td>\n",
       "      <td>Public Transport</td>\n",
       "    </tr>\n",
       "    <tr>\n",
       "      <th>99</th>\n",
       "      <td>200901BS70128</td>\n",
       "      <td>20-03-2021</td>\n",
       "      <td>Friday</td>\n",
       "      <td>Give way or uncontrolled</td>\n",
       "      <td>T or staggered junction</td>\n",
       "      <td>Minor</td>\n",
       "      <td>51.486213</td>\n",
       "      <td>-0.173423</td>\n",
       "      <td>Daylight</td>\n",
       "      <td>Kensington and Chelsea</td>\n",
       "      <td>...</td>\n",
       "      <td>1</td>\n",
       "      <td>2</td>\n",
       "      <td>Metropolitan Police</td>\n",
       "      <td>Dry</td>\n",
       "      <td>Single carriageway</td>\n",
       "      <td>30</td>\n",
       "      <td>08:59</td>\n",
       "      <td>Urban</td>\n",
       "      <td>Clear</td>\n",
       "      <td>Vans and Goods Vehicles</td>\n",
       "    </tr>\n",
       "  </tbody>\n",
       "</table>\n",
       "<p>100 rows × 21 columns</p>\n",
       "</div>"
      ],
      "text/plain": [
       "   Accident_Index Accident Date Day_of_Week          Junction_Control  \\\n",
       "0   200901BS70001    01-01-2021    Thursday  Give way or uncontrolled   \n",
       "1   200901BS70002    05-01-2021      Monday  Give way or uncontrolled   \n",
       "2   200901BS70003    04-01-2021      Sunday  Give way or uncontrolled   \n",
       "3   200901BS70004    05-01-2021      Monday       Auto traffic signal   \n",
       "4   200901BS70005    06-01-2021     Tuesday       Auto traffic signal   \n",
       "..            ...           ...         ...                       ...   \n",
       "95  200901BS70122    04-03-2021   Wednesday       Auto traffic signal   \n",
       "96  200901BS70123    07-02-2021    Saturday  Give way or uncontrolled   \n",
       "97  200901BS70124    17-03-2021     Tuesday       Auto traffic signal   \n",
       "98  200901BS70126    24-02-2021     Tuesday  Give way or uncontrolled   \n",
       "99  200901BS70128    20-03-2021      Friday  Give way or uncontrolled   \n",
       "\n",
       "            Junction_Detail Accident_Severity   Latitude  Longitude  \\\n",
       "0   T or staggered junction           Serious  51.512273  -0.201349   \n",
       "1                Crossroads           Serious  51.514399  -0.199248   \n",
       "2   T or staggered junction             Minor  51.486668  -0.179599   \n",
       "3   T or staggered junction           Serious  51.507804  -0.203110   \n",
       "4                Crossroads           Serious  51.482076  -0.173445   \n",
       "..                      ...               ...        ...        ...   \n",
       "95  T or staggered junction             Minor  51.486622  -0.170814   \n",
       "96               Crossroads             Minor  51.504966  -0.194000   \n",
       "97               Crossroads             Minor  51.495660  -0.173766   \n",
       "98  T or staggered junction           Serious  51.490535  -0.173827   \n",
       "99  T or staggered junction             Minor  51.486213  -0.173423   \n",
       "\n",
       "   Light_Conditions Local_Authority_(District)  ... Number_of_Casualties  \\\n",
       "0          Daylight     Kensington and Chelsea  ...                    1   \n",
       "1          Daylight     Kensington and Chelsea  ...                   11   \n",
       "2          Daylight     Kensington and Chelsea  ...                    1   \n",
       "3          Daylight     Kensington and Chelsea  ...                    1   \n",
       "4          Darkness     Kensington and Chelsea  ...                    1   \n",
       "..              ...                        ...  ...                  ...   \n",
       "95         Daylight     Kensington and Chelsea  ...                    1   \n",
       "96         Daylight     Kensington and Chelsea  ...                    1   \n",
       "97         Darkness     Kensington and Chelsea  ...                    1   \n",
       "98         Daylight     Kensington and Chelsea  ...                    1   \n",
       "99         Daylight     Kensington and Chelsea  ...                    1   \n",
       "\n",
       "    Number_of_Vehicles         Police_Force Road_Surface_Conditions  \\\n",
       "0                    2  Metropolitan Police                     Dry   \n",
       "1                    2  Metropolitan Police                     Wet   \n",
       "2                    2  Metropolitan Police                     Dry   \n",
       "3                    2  Metropolitan Police                  Frosty   \n",
       "4                    2  Metropolitan Police                     Dry   \n",
       "..                 ...                  ...                     ...   \n",
       "95                   2  Metropolitan Police                     Wet   \n",
       "96                   1  Metropolitan Police                     Dry   \n",
       "97                   1  Metropolitan Police                     Dry   \n",
       "98                   2  Metropolitan Police                     Dry   \n",
       "99                   2  Metropolitan Police                     Dry   \n",
       "\n",
       "             Road_Type Speed_limit   Time Urban_or_Rural_Area  \\\n",
       "0       One way street          30  15:11               Urban   \n",
       "1   Single carriageway          30  10:59               Urban   \n",
       "2   Single carriageway          30  14:19               Urban   \n",
       "3   Single carriageway          30  08:10               Urban   \n",
       "4   Single carriageway          30  17:25               Urban   \n",
       "..                 ...         ...    ...                 ...   \n",
       "95  Single carriageway          30  07:05               Urban   \n",
       "96  Single carriageway          30  13:15               Urban   \n",
       "97  Single carriageway          30  23:00               Urban   \n",
       "98  Single carriageway          30  08:00               Urban   \n",
       "99  Single carriageway          30  08:59               Urban   \n",
       "\n",
       "   Weather_Conditions             Vehicle_Type  \n",
       "0               Clear                     Cars  \n",
       "1               Clear                     Cars  \n",
       "2               Clear                     Cars  \n",
       "3               Other        Heavy Motorcycles  \n",
       "4               Clear                     Cars  \n",
       "..                ...                      ...  \n",
       "95              Clear                     Cars  \n",
       "96              Other                     Cars  \n",
       "97              Clear                     Cars  \n",
       "98              Clear         Public Transport  \n",
       "99              Clear  Vans and Goods Vehicles  \n",
       "\n",
       "[100 rows x 21 columns]"
      ]
     },
     "execution_count": 13,
     "metadata": {},
     "output_type": "execute_result"
    }
   ],
   "source": [
    "data.head(100)"
   ]
  },
  {
   "cell_type": "code",
   "execution_count": 14,
   "metadata": {},
   "outputs": [
    {
     "name": "stdout",
     "output_type": "stream",
     "text": [
      "<class 'pandas.core.frame.DataFrame'>\n",
      "RangeIndex: 307973 entries, 0 to 307972\n",
      "Data columns (total 21 columns):\n",
      " #   Column                      Non-Null Count   Dtype  \n",
      "---  ------                      --------------   -----  \n",
      " 0   Accident_Index              307972 non-null  object \n",
      " 1   Accident Date               307973 non-null  object \n",
      " 2   Day_of_Week                 307973 non-null  object \n",
      " 3   Junction_Control            307973 non-null  object \n",
      " 4   Junction_Detail             307973 non-null  object \n",
      " 5   Accident_Severity           307973 non-null  object \n",
      " 6   Latitude                    307973 non-null  float64\n",
      " 7   Longitude                   307973 non-null  float64\n",
      " 8   Light_Conditions            307973 non-null  object \n",
      " 9   Local_Authority_(District)  307973 non-null  object \n",
      " 10  Carriageway_Hazards         307973 non-null  object \n",
      " 11  Number_of_Casualties        307973 non-null  int64  \n",
      " 12  Number_of_Vehicles          307973 non-null  int64  \n",
      " 13  Police_Force                307973 non-null  object \n",
      " 14  Road_Surface_Conditions     307973 non-null  object \n",
      " 15  Road_Type                   306448 non-null  object \n",
      " 16  Speed_limit                 307973 non-null  int64  \n",
      " 17  Time                        307973 non-null  object \n",
      " 18  Urban_or_Rural_Area         307973 non-null  object \n",
      " 19  Weather_Conditions          307973 non-null  object \n",
      " 20  Vehicle_Type                307973 non-null  object \n",
      "dtypes: float64(2), int64(3), object(16)\n",
      "memory usage: 49.3+ MB\n"
     ]
    }
   ],
   "source": [
    "data.info()"
   ]
  },
  {
   "cell_type": "code",
   "execution_count": 15,
   "metadata": {},
   "outputs": [],
   "source": [
    "\n",
    "data['Accident Date'] = pd.to_datetime(data['Accident Date'],format = \"%d-%m-%Y\")\n",
    "# data['Time'] = pd.to_datetime(data['Time'],format='%H:%M',errors = 'coerce').dt.time"
   ]
  },
  {
   "cell_type": "code",
   "execution_count": 16,
   "metadata": {},
   "outputs": [
    {
     "name": "stdout",
     "output_type": "stream",
     "text": [
      "<class 'pandas.core.frame.DataFrame'>\n",
      "RangeIndex: 307973 entries, 0 to 307972\n",
      "Data columns (total 21 columns):\n",
      " #   Column                      Non-Null Count   Dtype         \n",
      "---  ------                      --------------   -----         \n",
      " 0   Accident_Index              307972 non-null  object        \n",
      " 1   Accident Date               307973 non-null  datetime64[ns]\n",
      " 2   Day_of_Week                 307973 non-null  object        \n",
      " 3   Junction_Control            307973 non-null  object        \n",
      " 4   Junction_Detail             307973 non-null  object        \n",
      " 5   Accident_Severity           307973 non-null  object        \n",
      " 6   Latitude                    307973 non-null  float64       \n",
      " 7   Longitude                   307973 non-null  float64       \n",
      " 8   Light_Conditions            307973 non-null  object        \n",
      " 9   Local_Authority_(District)  307973 non-null  object        \n",
      " 10  Carriageway_Hazards         307973 non-null  object        \n",
      " 11  Number_of_Casualties        307973 non-null  int64         \n",
      " 12  Number_of_Vehicles          307973 non-null  int64         \n",
      " 13  Police_Force                307973 non-null  object        \n",
      " 14  Road_Surface_Conditions     307973 non-null  object        \n",
      " 15  Road_Type                   306448 non-null  object        \n",
      " 16  Speed_limit                 307973 non-null  int64         \n",
      " 17  Time                        307973 non-null  object        \n",
      " 18  Urban_or_Rural_Area         307973 non-null  object        \n",
      " 19  Weather_Conditions          307973 non-null  object        \n",
      " 20  Vehicle_Type                307973 non-null  object        \n",
      "dtypes: datetime64[ns](1), float64(2), int64(3), object(15)\n",
      "memory usage: 49.3+ MB\n"
     ]
    }
   ],
   "source": [
    "data.info()"
   ]
  },
  {
   "cell_type": "code",
   "execution_count": 17,
   "metadata": {},
   "outputs": [
    {
     "data": {
      "text/plain": [
       "Accident_Index                   1\n",
       "Accident Date                    0\n",
       "Day_of_Week                      0\n",
       "Junction_Control                 0\n",
       "Junction_Detail                  0\n",
       "Accident_Severity                0\n",
       "Latitude                         0\n",
       "Longitude                        0\n",
       "Light_Conditions                 0\n",
       "Local_Authority_(District)       0\n",
       "Carriageway_Hazards              0\n",
       "Number_of_Casualties             0\n",
       "Number_of_Vehicles               0\n",
       "Police_Force                     0\n",
       "Road_Surface_Conditions          0\n",
       "Road_Type                     1525\n",
       "Speed_limit                      0\n",
       "Time                             0\n",
       "Urban_or_Rural_Area              0\n",
       "Weather_Conditions               0\n",
       "Vehicle_Type                     0\n",
       "dtype: int64"
      ]
     },
     "execution_count": 17,
     "metadata": {},
     "output_type": "execute_result"
    }
   ],
   "source": [
    "data.isnull().sum()\n",
    "# Data set has 1525 Null value in Road_Type column and 1 Accident_Index column which is null. "
   ]
  },
  {
   "cell_type": "code",
   "execution_count": 18,
   "metadata": {},
   "outputs": [],
   "source": [
    "data['Road_Type'].replace('null', np.nan, inplace=True)\n",
    "data['Road_Type'].fillna(data['Road_Type'].mode().iloc[0], inplace=True)"
   ]
  },
  {
   "cell_type": "code",
   "execution_count": 19,
   "metadata": {},
   "outputs": [
    {
     "data": {
      "text/plain": [
       "Accident_Index                1\n",
       "Accident Date                 0\n",
       "Day_of_Week                   0\n",
       "Junction_Control              0\n",
       "Junction_Detail               0\n",
       "Accident_Severity             0\n",
       "Latitude                      0\n",
       "Longitude                     0\n",
       "Light_Conditions              0\n",
       "Local_Authority_(District)    0\n",
       "Carriageway_Hazards           0\n",
       "Number_of_Casualties          0\n",
       "Number_of_Vehicles            0\n",
       "Police_Force                  0\n",
       "Road_Surface_Conditions       0\n",
       "Road_Type                     0\n",
       "Speed_limit                   0\n",
       "Time                          0\n",
       "Urban_or_Rural_Area           0\n",
       "Weather_Conditions            0\n",
       "Vehicle_Type                  0\n",
       "dtype: int64"
      ]
     },
     "execution_count": 19,
     "metadata": {},
     "output_type": "execute_result"
    }
   ],
   "source": [
    "data.isnull().sum()"
   ]
  },
  {
   "cell_type": "code",
   "execution_count": 20,
   "metadata": {},
   "outputs": [
    {
     "data": {
      "text/plain": [
       "Junction_Control\n",
       "Give way or uncontrolled               150045\n",
       "Data missing or out of range            98056\n",
       "Auto traffic signal                     32256\n",
       "Not at junction or within 20 metres     25378\n",
       "Stop sign                                1685\n",
       "Authorised person                         460\n",
       "Auto traffic sigl                          93\n",
       "Name: count, dtype: int64"
      ]
     },
     "execution_count": 20,
     "metadata": {},
     "output_type": "execute_result"
    }
   ],
   "source": [
    "data['Junction_Control'].value_counts()"
   ]
  },
  {
   "cell_type": "code",
   "execution_count": 21,
   "metadata": {},
   "outputs": [],
   "source": [
    "map_dict = {'Auto traffic sigl': 'Auto traffic signal'}\n",
    "data['Junction_Control'] = data['Junction_Control'].replace(map_dict)"
   ]
  },
  {
   "cell_type": "code",
   "execution_count": 22,
   "metadata": {},
   "outputs": [
    {
     "data": {
      "text/plain": [
       "Junction_Control\n",
       "Give way or uncontrolled               150045\n",
       "Data missing or out of range            98056\n",
       "Auto traffic signal                     32349\n",
       "Not at junction or within 20 metres     25378\n",
       "Stop sign                                1685\n",
       "Authorised person                         460\n",
       "Name: count, dtype: int64"
      ]
     },
     "execution_count": 22,
     "metadata": {},
     "output_type": "execute_result"
    }
   ],
   "source": [
    "data['Junction_Control'].value_counts()"
   ]
  },
  {
   "cell_type": "code",
   "execution_count": 94,
   "metadata": {},
   "outputs": [],
   "source": [
    "# extract the last 5 digits from the time column\n",
    "# data['Time'] = data['Time'].apply(lambda x:x[-5:])"
   ]
  },
  {
   "cell_type": "code",
   "execution_count": 23,
   "metadata": {},
   "outputs": [
    {
     "data": {
      "text/html": [
       "<div>\n",
       "<style scoped>\n",
       "    .dataframe tbody tr th:only-of-type {\n",
       "        vertical-align: middle;\n",
       "    }\n",
       "\n",
       "    .dataframe tbody tr th {\n",
       "        vertical-align: top;\n",
       "    }\n",
       "\n",
       "    .dataframe thead th {\n",
       "        text-align: right;\n",
       "    }\n",
       "</style>\n",
       "<table border=\"1\" class=\"dataframe\">\n",
       "  <thead>\n",
       "    <tr style=\"text-align: right;\">\n",
       "      <th></th>\n",
       "      <th>Accident_Index</th>\n",
       "      <th>Accident Date</th>\n",
       "      <th>Day_of_Week</th>\n",
       "      <th>Junction_Control</th>\n",
       "      <th>Junction_Detail</th>\n",
       "      <th>Accident_Severity</th>\n",
       "      <th>Latitude</th>\n",
       "      <th>Longitude</th>\n",
       "      <th>Light_Conditions</th>\n",
       "      <th>Local_Authority_(District)</th>\n",
       "      <th>...</th>\n",
       "      <th>Number_of_Casualties</th>\n",
       "      <th>Number_of_Vehicles</th>\n",
       "      <th>Police_Force</th>\n",
       "      <th>Road_Surface_Conditions</th>\n",
       "      <th>Road_Type</th>\n",
       "      <th>Speed_limit</th>\n",
       "      <th>Time</th>\n",
       "      <th>Urban_or_Rural_Area</th>\n",
       "      <th>Weather_Conditions</th>\n",
       "      <th>Vehicle_Type</th>\n",
       "    </tr>\n",
       "  </thead>\n",
       "  <tbody>\n",
       "    <tr>\n",
       "      <th>0</th>\n",
       "      <td>200901BS70001</td>\n",
       "      <td>2021-01-01</td>\n",
       "      <td>Thursday</td>\n",
       "      <td>Give way or uncontrolled</td>\n",
       "      <td>T or staggered junction</td>\n",
       "      <td>Serious</td>\n",
       "      <td>51.512273</td>\n",
       "      <td>-0.201349</td>\n",
       "      <td>Daylight</td>\n",
       "      <td>Kensington and Chelsea</td>\n",
       "      <td>...</td>\n",
       "      <td>1</td>\n",
       "      <td>2</td>\n",
       "      <td>Metropolitan Police</td>\n",
       "      <td>Dry</td>\n",
       "      <td>One way street</td>\n",
       "      <td>30</td>\n",
       "      <td>15:11</td>\n",
       "      <td>Urban</td>\n",
       "      <td>Clear</td>\n",
       "      <td>Cars</td>\n",
       "    </tr>\n",
       "    <tr>\n",
       "      <th>1</th>\n",
       "      <td>200901BS70002</td>\n",
       "      <td>2021-01-05</td>\n",
       "      <td>Monday</td>\n",
       "      <td>Give way or uncontrolled</td>\n",
       "      <td>Crossroads</td>\n",
       "      <td>Serious</td>\n",
       "      <td>51.514399</td>\n",
       "      <td>-0.199248</td>\n",
       "      <td>Daylight</td>\n",
       "      <td>Kensington and Chelsea</td>\n",
       "      <td>...</td>\n",
       "      <td>11</td>\n",
       "      <td>2</td>\n",
       "      <td>Metropolitan Police</td>\n",
       "      <td>Wet</td>\n",
       "      <td>Single carriageway</td>\n",
       "      <td>30</td>\n",
       "      <td>10:59</td>\n",
       "      <td>Urban</td>\n",
       "      <td>Clear</td>\n",
       "      <td>Cars</td>\n",
       "    </tr>\n",
       "    <tr>\n",
       "      <th>2</th>\n",
       "      <td>200901BS70003</td>\n",
       "      <td>2021-01-04</td>\n",
       "      <td>Sunday</td>\n",
       "      <td>Give way or uncontrolled</td>\n",
       "      <td>T or staggered junction</td>\n",
       "      <td>Minor</td>\n",
       "      <td>51.486668</td>\n",
       "      <td>-0.179599</td>\n",
       "      <td>Daylight</td>\n",
       "      <td>Kensington and Chelsea</td>\n",
       "      <td>...</td>\n",
       "      <td>1</td>\n",
       "      <td>2</td>\n",
       "      <td>Metropolitan Police</td>\n",
       "      <td>Dry</td>\n",
       "      <td>Single carriageway</td>\n",
       "      <td>30</td>\n",
       "      <td>14:19</td>\n",
       "      <td>Urban</td>\n",
       "      <td>Clear</td>\n",
       "      <td>Cars</td>\n",
       "    </tr>\n",
       "    <tr>\n",
       "      <th>3</th>\n",
       "      <td>200901BS70004</td>\n",
       "      <td>2021-01-05</td>\n",
       "      <td>Monday</td>\n",
       "      <td>Auto traffic signal</td>\n",
       "      <td>T or staggered junction</td>\n",
       "      <td>Serious</td>\n",
       "      <td>51.507804</td>\n",
       "      <td>-0.203110</td>\n",
       "      <td>Daylight</td>\n",
       "      <td>Kensington and Chelsea</td>\n",
       "      <td>...</td>\n",
       "      <td>1</td>\n",
       "      <td>2</td>\n",
       "      <td>Metropolitan Police</td>\n",
       "      <td>Frosty</td>\n",
       "      <td>Single carriageway</td>\n",
       "      <td>30</td>\n",
       "      <td>08:10</td>\n",
       "      <td>Urban</td>\n",
       "      <td>Other</td>\n",
       "      <td>Heavy Motorcycles</td>\n",
       "    </tr>\n",
       "    <tr>\n",
       "      <th>4</th>\n",
       "      <td>200901BS70005</td>\n",
       "      <td>2021-01-06</td>\n",
       "      <td>Tuesday</td>\n",
       "      <td>Auto traffic signal</td>\n",
       "      <td>Crossroads</td>\n",
       "      <td>Serious</td>\n",
       "      <td>51.482076</td>\n",
       "      <td>-0.173445</td>\n",
       "      <td>Darkness</td>\n",
       "      <td>Kensington and Chelsea</td>\n",
       "      <td>...</td>\n",
       "      <td>1</td>\n",
       "      <td>2</td>\n",
       "      <td>Metropolitan Police</td>\n",
       "      <td>Dry</td>\n",
       "      <td>Single carriageway</td>\n",
       "      <td>30</td>\n",
       "      <td>17:25</td>\n",
       "      <td>Urban</td>\n",
       "      <td>Clear</td>\n",
       "      <td>Cars</td>\n",
       "    </tr>\n",
       "  </tbody>\n",
       "</table>\n",
       "<p>5 rows × 21 columns</p>\n",
       "</div>"
      ],
      "text/plain": [
       "  Accident_Index Accident Date Day_of_Week          Junction_Control  \\\n",
       "0  200901BS70001    2021-01-01    Thursday  Give way or uncontrolled   \n",
       "1  200901BS70002    2021-01-05      Monday  Give way or uncontrolled   \n",
       "2  200901BS70003    2021-01-04      Sunday  Give way or uncontrolled   \n",
       "3  200901BS70004    2021-01-05      Monday       Auto traffic signal   \n",
       "4  200901BS70005    2021-01-06     Tuesday       Auto traffic signal   \n",
       "\n",
       "           Junction_Detail Accident_Severity   Latitude  Longitude  \\\n",
       "0  T or staggered junction           Serious  51.512273  -0.201349   \n",
       "1               Crossroads           Serious  51.514399  -0.199248   \n",
       "2  T or staggered junction             Minor  51.486668  -0.179599   \n",
       "3  T or staggered junction           Serious  51.507804  -0.203110   \n",
       "4               Crossroads           Serious  51.482076  -0.173445   \n",
       "\n",
       "  Light_Conditions Local_Authority_(District)  ... Number_of_Casualties  \\\n",
       "0         Daylight     Kensington and Chelsea  ...                    1   \n",
       "1         Daylight     Kensington and Chelsea  ...                   11   \n",
       "2         Daylight     Kensington and Chelsea  ...                    1   \n",
       "3         Daylight     Kensington and Chelsea  ...                    1   \n",
       "4         Darkness     Kensington and Chelsea  ...                    1   \n",
       "\n",
       "   Number_of_Vehicles         Police_Force Road_Surface_Conditions  \\\n",
       "0                   2  Metropolitan Police                     Dry   \n",
       "1                   2  Metropolitan Police                     Wet   \n",
       "2                   2  Metropolitan Police                     Dry   \n",
       "3                   2  Metropolitan Police                  Frosty   \n",
       "4                   2  Metropolitan Police                     Dry   \n",
       "\n",
       "            Road_Type Speed_limit   Time Urban_or_Rural_Area  \\\n",
       "0      One way street          30  15:11               Urban   \n",
       "1  Single carriageway          30  10:59               Urban   \n",
       "2  Single carriageway          30  14:19               Urban   \n",
       "3  Single carriageway          30  08:10               Urban   \n",
       "4  Single carriageway          30  17:25               Urban   \n",
       "\n",
       "  Weather_Conditions       Vehicle_Type  \n",
       "0              Clear               Cars  \n",
       "1              Clear               Cars  \n",
       "2              Clear               Cars  \n",
       "3              Other  Heavy Motorcycles  \n",
       "4              Clear               Cars  \n",
       "\n",
       "[5 rows x 21 columns]"
      ]
     },
     "execution_count": 23,
     "metadata": {},
     "output_type": "execute_result"
    }
   ],
   "source": [
    "data.head()"
   ]
  },
  {
   "cell_type": "code",
   "execution_count": 24,
   "metadata": {},
   "outputs": [],
   "source": [
    "data.to_csv('C:/Users/zeus/Desktop/Git Repositories/Road_Accidents/Updated Road Accident Data.csv')"
   ]
  },
  {
   "cell_type": "code",
   "execution_count": 3,
   "metadata": {},
   "outputs": [],
   "source": [
    "data = pd.read_csv('C:/Users/zeus/Desktop/Git Repositories/Road_Accidents/Updated Road Accident Data.csv')"
   ]
  },
  {
   "cell_type": "markdown",
   "metadata": {},
   "source": [
    "# Data Analysis part \n",
    "\n",
    "### Severity Analysis:\n",
    "1. Percentage contribution of each severity to the accidents.\n",
    "3. Calculate the average casulality at different range of Speed_limit\n",
    "\n",
    "### Temporal Analysis:\n",
    "1. Weekly count of accidents and show that on a graph(histogram)\n",
    "2. Distribution of accidents over different times and are there specific times fo the day when accidents are more likely to occur?\n",
    "\n",
    "### Geospatial Analysis:\n",
    "1. Location and region with higher incidence of accidents\n",
    "2. Specific junction types or road conditions associate with high number of accidents\n",
    "\n",
    "### Junction Analysis:\n",
    "1. Investigate the 'Junction Detail' and 'Junction Control' columns to understand the role of the junctions in the accidents.\n",
    "\n",
    "### Weather and Road Conditions:\n",
    "1. Examine the 'Weather_Conditions' and 'Road_Surface_Conditions' columns to analyze the impact of weather and road conditions on accidents. Identify if certain conditions contribute to a      higher number of accidents.\n",
    "\n",
    "### Light Conditions\n",
    "1. Investigate the 'Light_Conditions' column to understand how lighting conditions influence accidents. Determine if accidents are more prevalent in low-light or dark conditions.\n",
    "\n",
    "### Road Type and Speed Limit:\n",
    "1. Analyze the relationship between 'Road_Type' and 'Speed_limit' to identify if certain road types or speed limits are associated with higher accident rates."
   ]
  },
  {
   "cell_type": "code",
   "execution_count": 183,
   "metadata": {},
   "outputs": [
    {
     "data": {
      "text/html": [
       "<div>\n",
       "<style scoped>\n",
       "    .dataframe tbody tr th:only-of-type {\n",
       "        vertical-align: middle;\n",
       "    }\n",
       "\n",
       "    .dataframe tbody tr th {\n",
       "        vertical-align: top;\n",
       "    }\n",
       "\n",
       "    .dataframe thead th {\n",
       "        text-align: right;\n",
       "    }\n",
       "</style>\n",
       "<table border=\"1\" class=\"dataframe\">\n",
       "  <thead>\n",
       "    <tr style=\"text-align: right;\">\n",
       "      <th></th>\n",
       "      <th>Weather_Conditions</th>\n",
       "      <th>Accident Count</th>\n",
       "      <th>Percentage</th>\n",
       "    </tr>\n",
       "  </thead>\n",
       "  <tbody>\n",
       "    <tr>\n",
       "      <th>0</th>\n",
       "      <td>Clear</td>\n",
       "      <td>247644</td>\n",
       "      <td>80.41</td>\n",
       "    </tr>\n",
       "    <tr>\n",
       "      <th>1</th>\n",
       "      <td>Raining</td>\n",
       "      <td>38403</td>\n",
       "      <td>12.47</td>\n",
       "    </tr>\n",
       "    <tr>\n",
       "      <th>2</th>\n",
       "      <td>Other</td>\n",
       "      <td>14859</td>\n",
       "      <td>4.82</td>\n",
       "    </tr>\n",
       "    <tr>\n",
       "      <th>3</th>\n",
       "      <td>Snowy</td>\n",
       "      <td>5377</td>\n",
       "      <td>1.75</td>\n",
       "    </tr>\n",
       "    <tr>\n",
       "      <th>4</th>\n",
       "      <td>Foggy</td>\n",
       "      <td>1690</td>\n",
       "      <td>0.55</td>\n",
       "    </tr>\n",
       "  </tbody>\n",
       "</table>\n",
       "</div>"
      ],
      "text/plain": [
       "  Weather_Conditions  Accident Count  Percentage\n",
       "0              Clear          247644       80.41\n",
       "1            Raining           38403       12.47\n",
       "2              Other           14859        4.82\n",
       "3              Snowy            5377        1.75\n",
       "4              Foggy            1690        0.55"
      ]
     },
     "execution_count": 183,
     "metadata": {},
     "output_type": "execute_result"
    }
   ],
   "source": [
    "total_accidents = data['Weather_Conditions'].value_counts().sum()\n",
    "sub_count = data['Weather_Conditions'].value_counts()\n",
    "weather_accident = pd.DataFrame(sub_count)\n",
    "weather_accident.columns = ['Accident Count']\n",
    "weather_accident['Percentage'] = (sub_count / total_accidents * 100).round(2)\n",
    "weather_accident.reset_index()"
   ]
  },
  {
   "cell_type": "code",
   "execution_count": 226,
   "metadata": {},
   "outputs": [
    {
     "data": {
      "image/png": "[encoded data removed]",
      "text/plain": [
       "<Figure size 1000x600 with 1 Axes>"
      ]
     },
     "metadata": {},
     "output_type": "display_data"
    }
   ],
   "source": [
    "mylabels = ['Clear', 'Raining', 'Other', 'Snowy', 'Foggy']\n",
    "\n",
    "plt.figure(figsize=[10, 6])\n",
    "plt.title('Impact of Weather Conditions on Accidents', fontdict={'fontsize': 20})\n",
    "bars = plt.bar(x=mylabels, height=data['Weather_Conditions'].value_counts(), color='Brown')\n",
    "\n",
    "# Labeling each bar with its value using ax.text()\n",
    "for bar in bars:\n",
    "    plt.text(bar.get_x() + bar.get_width()/2, bar.get_height(), f'{int(bar.get_height())}',\n",
    "             ha='center', va='bottom', fontsize=10, color='black')\n",
    "\n",
    "plt.yticks([])\n",
    "plt.ylabel(\"Number of Accidents\")\n",
    "plt.show()"
   ]
  },
  {
   "cell_type": "code",
   "execution_count": 185,
   "metadata": {},
   "outputs": [
    {
     "name": "stdout",
     "output_type": "stream",
     "text": [
      "Percentage Count of Accidents by Different Vehicle Type\n"
     ]
    },
    {
     "data": {
      "text/html": [
       "<div>\n",
       "<style scoped>\n",
       "    .dataframe tbody tr th:only-of-type {\n",
       "        vertical-align: middle;\n",
       "    }\n",
       "\n",
       "    .dataframe tbody tr th {\n",
       "        vertical-align: top;\n",
       "    }\n",
       "\n",
       "    .dataframe thead th {\n",
       "        text-align: right;\n",
       "    }\n",
       "</style>\n",
       "<table border=\"1\" class=\"dataframe\">\n",
       "  <thead>\n",
       "    <tr style=\"text-align: right;\">\n",
       "      <th></th>\n",
       "      <th>Vehicle_Type</th>\n",
       "      <th>Accident Count</th>\n",
       "      <th>Percentage</th>\n",
       "    </tr>\n",
       "  </thead>\n",
       "  <tbody>\n",
       "    <tr>\n",
       "      <th>0</th>\n",
       "      <td>Cars</td>\n",
       "      <td>245337</td>\n",
       "      <td>79.662%</td>\n",
       "    </tr>\n",
       "    <tr>\n",
       "      <th>1</th>\n",
       "      <td>Vans and Goods Vehicles</td>\n",
       "      <td>24729</td>\n",
       "      <td>8.030%</td>\n",
       "    </tr>\n",
       "    <tr>\n",
       "      <th>2</th>\n",
       "      <td>Heavy Motorcycles</td>\n",
       "      <td>14511</td>\n",
       "      <td>4.712%</td>\n",
       "    </tr>\n",
       "    <tr>\n",
       "      <th>3</th>\n",
       "      <td>Small Vehicles</td>\n",
       "      <td>10555</td>\n",
       "      <td>3.427%</td>\n",
       "    </tr>\n",
       "    <tr>\n",
       "      <th>4</th>\n",
       "      <td>Public Transport</td>\n",
       "      <td>9507</td>\n",
       "      <td>3.087%</td>\n",
       "    </tr>\n",
       "    <tr>\n",
       "      <th>5</th>\n",
       "      <td>Other vehicle</td>\n",
       "      <td>2516</td>\n",
       "      <td>0.817%</td>\n",
       "    </tr>\n",
       "    <tr>\n",
       "      <th>6</th>\n",
       "      <td>Specialized Vehicles</td>\n",
       "      <td>752</td>\n",
       "      <td>0.244%</td>\n",
       "    </tr>\n",
       "    <tr>\n",
       "      <th>7</th>\n",
       "      <td>Bicycle</td>\n",
       "      <td>66</td>\n",
       "      <td>0.021%</td>\n",
       "    </tr>\n",
       "  </tbody>\n",
       "</table>\n",
       "</div>"
      ],
      "text/plain": [
       "              Vehicle_Type  Accident Count Percentage\n",
       "0                     Cars          245337    79.662%\n",
       "1  Vans and Goods Vehicles           24729     8.030%\n",
       "2        Heavy Motorcycles           14511     4.712%\n",
       "3           Small Vehicles           10555     3.427%\n",
       "4         Public Transport            9507     3.087%\n",
       "5            Other vehicle            2516     0.817%\n",
       "6     Specialized Vehicles             752     0.244%\n",
       "7                  Bicycle              66     0.021%"
      ]
     },
     "execution_count": 185,
     "metadata": {},
     "output_type": "execute_result"
    }
   ],
   "source": [
    "total_accidents = data['Vehicle_Type'].value_counts().sum()\n",
    "sub_count = data['Vehicle_Type'].value_counts()\n",
    "vehicle_accident = pd.DataFrame(sub_count)\n",
    "vehicle_accident.columns = ['Accident Count']\n",
    "vehicle_accident['Percentage'] = (sub_count / total_accidents * 100).apply(lambda x: '{:.3f}%'.format(x) if x > 0.0001 else '')\n",
    "print(\"Percentage Count of Accidents by Different Vehicle Type\")\n",
    "vehicle_accident.reset_index()\n"
   ]
  },
  {
   "cell_type": "code",
   "execution_count": 225,
   "metadata": {},
   "outputs": [
    {
     "data": {
      "image/png": "[encoded data removed]",
      "text/plain": [
       "<Figure size 600x600 with 1 Axes>"
      ]
     },
     "metadata": {},
     "output_type": "display_data"
    }
   ],
   "source": [
    "data['Vehicle_Type'].value_counts()\n",
    "mylabels = ['Car','Vans and Goods Vehicles','Heavy Motorcycles','Small Vehicles','Public Transport','Other vehicle','Specialized Vehicles','Bicycle']\n",
    "plt.figure(figsize=[6, 6])\n",
    "plt.title('Vehicle Type Vs Accidents',fontdict={'fontsize':20})\n",
    "bars = plt.barh(y = mylabels, width = data['Vehicle_Type'].value_counts(), color='Purple')\n",
    "\n",
    "for bar in bars:\n",
    "    plt.text(bar.get_width(), bar.get_y() + bar.get_height()/2, f'{bar.get_width()}',\n",
    "             va='center', ha='left', fontsize=10, color='black')\n",
    "plt.xlabel('Number of Accidents')\n",
    "plt.xticks([])\n",
    "plt.show()"
   ]
  },
  {
   "cell_type": "code",
   "execution_count": null,
   "metadata": {},
   "outputs": [],
   "source": [
    "\n"
   ]
  },
  {
   "cell_type": "code",
   "execution_count": 187,
   "metadata": {},
   "outputs": [
    {
     "data": {
      "text/plain": [
       "Index(['Unnamed: 0', 'Accident_Index', 'Accident Date', 'Day_of_Week',\n",
       "       'Junction_Control', 'Junction_Detail', 'Accident_Severity', 'Latitude',\n",
       "       'Longitude', 'Light_Conditions', 'Local_Authority_(District)',\n",
       "       'Carriageway_Hazards', 'Number_of_Casualties', 'Number_of_Vehicles',\n",
       "       'Police_Force', 'Road_Surface_Conditions', 'Road_Type', 'Speed_limit',\n",
       "       'Time', 'Urban_or_Rural_Area', 'Weather_Conditions', 'Vehicle_Type'],\n",
       "      dtype='object')"
      ]
     },
     "execution_count": 187,
     "metadata": {},
     "output_type": "execute_result"
    }
   ],
   "source": [
    "data.columns"
   ]
  },
  {
   "cell_type": "code",
   "execution_count": 188,
   "metadata": {},
   "outputs": [
    {
     "data": {
      "text/plain": [
       "Accident_Severity\n",
       "Minor      85.5 %\n",
       "Serious    13.2 %\n",
       "Fatal       1.3 %\n",
       "Name: count, dtype: object"
      ]
     },
     "execution_count": 188,
     "metadata": {},
     "output_type": "execute_result"
    }
   ],
   "source": [
    "# Percentage contribution of each Severity to the Total Accidents. \n",
    "total_accidents = data['Accident_Severity'].count()\n",
    "severity_counts = data['Accident_Severity'].value_counts()\n",
    "percentage_Contribution= (severity_counts/total_accidents)*100\n",
    "percentage_Contribution.round(2).apply(lambda x:'{:.1f} %'.format(x) if x>0 else '')"
   ]
  },
  {
   "cell_type": "code",
   "execution_count": 229,
   "metadata": {},
   "outputs": [
    {
     "data": {
      "image/png": "[encoded data removed]",
      "text/plain": [
       "<Figure size 640x480 with 1 Axes>"
      ]
     },
     "metadata": {},
     "output_type": "display_data"
    },
    {
     "data": {
      "text/plain": [
       "<Figure size 2000x2000 with 0 Axes>"
      ]
     },
     "metadata": {},
     "output_type": "display_data"
    }
   ],
   "source": [
    "#Percent Accident Severity using pie chart \n",
    "mylabels = ['Minor','Serious','Fatal']\n",
    "color = ['skyblue','slateblue','blue']\n",
    "plt.title('Percentage Accident Severity',fontdict={'fontsize':20})\n",
    "plt.pie(data['Accident_Severity'].value_counts(),labels = mylabels,startangle = 0,colors=color,autopct=lambda p: '{:.1f}%'.format(p) if p > 0 else '',\n",
    "       textprops={'color': 'Black', 'fontsize': 10, 'weight': 'bold', 'horizontalalignment': 'center', 'verticalalignment': 'center'})\n",
    "plt.figure(figsize=[20,20])\n",
    "\n",
    "plt.show()\n",
    "\n"
   ]
  },
  {
   "cell_type": "code",
   "execution_count": 5,
   "metadata": {},
   "outputs": [
    {
     "data": {
      "text/html": [
       "<div>\n",
       "<style scoped>\n",
       "    .dataframe tbody tr th:only-of-type {\n",
       "        vertical-align: middle;\n",
       "    }\n",
       "\n",
       "    .dataframe tbody tr th {\n",
       "        vertical-align: top;\n",
       "    }\n",
       "\n",
       "    .dataframe thead th {\n",
       "        text-align: right;\n",
       "    }\n",
       "</style>\n",
       "<table border=\"1\" class=\"dataframe\">\n",
       "  <thead>\n",
       "    <tr style=\"text-align: right;\">\n",
       "      <th></th>\n",
       "      <th>Unnamed: 0</th>\n",
       "      <th>Accident_Index</th>\n",
       "      <th>Accident Date</th>\n",
       "      <th>Day_of_Week</th>\n",
       "      <th>Junction_Control</th>\n",
       "      <th>Junction_Detail</th>\n",
       "      <th>Accident_Severity</th>\n",
       "      <th>Latitude</th>\n",
       "      <th>Longitude</th>\n",
       "      <th>Light_Conditions</th>\n",
       "      <th>...</th>\n",
       "      <th>Number_of_Casualties</th>\n",
       "      <th>Number_of_Vehicles</th>\n",
       "      <th>Police_Force</th>\n",
       "      <th>Road_Surface_Conditions</th>\n",
       "      <th>Road_Type</th>\n",
       "      <th>Speed_limit</th>\n",
       "      <th>Time</th>\n",
       "      <th>Urban_or_Rural_Area</th>\n",
       "      <th>Weather_Conditions</th>\n",
       "      <th>Vehicle_Type</th>\n",
       "    </tr>\n",
       "  </thead>\n",
       "  <tbody>\n",
       "    <tr>\n",
       "      <th>0</th>\n",
       "      <td>0</td>\n",
       "      <td>200901BS70001</td>\n",
       "      <td>2021-01-01</td>\n",
       "      <td>Thursday</td>\n",
       "      <td>Give way or uncontrolled</td>\n",
       "      <td>T or staggered junction</td>\n",
       "      <td>Serious</td>\n",
       "      <td>51.512273</td>\n",
       "      <td>-0.201349</td>\n",
       "      <td>Daylight</td>\n",
       "      <td>...</td>\n",
       "      <td>1</td>\n",
       "      <td>2</td>\n",
       "      <td>Metropolitan Police</td>\n",
       "      <td>Dry</td>\n",
       "      <td>One way street</td>\n",
       "      <td>30</td>\n",
       "      <td>15:11</td>\n",
       "      <td>Urban</td>\n",
       "      <td>Clear</td>\n",
       "      <td>Cars</td>\n",
       "    </tr>\n",
       "    <tr>\n",
       "      <th>1</th>\n",
       "      <td>1</td>\n",
       "      <td>200901BS70002</td>\n",
       "      <td>2021-01-05</td>\n",
       "      <td>Monday</td>\n",
       "      <td>Give way or uncontrolled</td>\n",
       "      <td>Crossroads</td>\n",
       "      <td>Serious</td>\n",
       "      <td>51.514399</td>\n",
       "      <td>-0.199248</td>\n",
       "      <td>Daylight</td>\n",
       "      <td>...</td>\n",
       "      <td>11</td>\n",
       "      <td>2</td>\n",
       "      <td>Metropolitan Police</td>\n",
       "      <td>Wet</td>\n",
       "      <td>Single carriageway</td>\n",
       "      <td>30</td>\n",
       "      <td>10:59</td>\n",
       "      <td>Urban</td>\n",
       "      <td>Clear</td>\n",
       "      <td>Cars</td>\n",
       "    </tr>\n",
       "    <tr>\n",
       "      <th>2</th>\n",
       "      <td>2</td>\n",
       "      <td>200901BS70003</td>\n",
       "      <td>2021-01-04</td>\n",
       "      <td>Sunday</td>\n",
       "      <td>Give way or uncontrolled</td>\n",
       "      <td>T or staggered junction</td>\n",
       "      <td>Minor</td>\n",
       "      <td>51.486668</td>\n",
       "      <td>-0.179599</td>\n",
       "      <td>Daylight</td>\n",
       "      <td>...</td>\n",
       "      <td>1</td>\n",
       "      <td>2</td>\n",
       "      <td>Metropolitan Police</td>\n",
       "      <td>Dry</td>\n",
       "      <td>Single carriageway</td>\n",
       "      <td>30</td>\n",
       "      <td>14:19</td>\n",
       "      <td>Urban</td>\n",
       "      <td>Clear</td>\n",
       "      <td>Cars</td>\n",
       "    </tr>\n",
       "    <tr>\n",
       "      <th>3</th>\n",
       "      <td>3</td>\n",
       "      <td>200901BS70004</td>\n",
       "      <td>2021-01-05</td>\n",
       "      <td>Monday</td>\n",
       "      <td>Auto traffic signal</td>\n",
       "      <td>T or staggered junction</td>\n",
       "      <td>Serious</td>\n",
       "      <td>51.507804</td>\n",
       "      <td>-0.203110</td>\n",
       "      <td>Daylight</td>\n",
       "      <td>...</td>\n",
       "      <td>1</td>\n",
       "      <td>2</td>\n",
       "      <td>Metropolitan Police</td>\n",
       "      <td>Frosty</td>\n",
       "      <td>Single carriageway</td>\n",
       "      <td>30</td>\n",
       "      <td>08:10</td>\n",
       "      <td>Urban</td>\n",
       "      <td>Other</td>\n",
       "      <td>Heavy Motorcycles</td>\n",
       "    </tr>\n",
       "    <tr>\n",
       "      <th>4</th>\n",
       "      <td>4</td>\n",
       "      <td>200901BS70005</td>\n",
       "      <td>2021-01-06</td>\n",
       "      <td>Tuesday</td>\n",
       "      <td>Auto traffic signal</td>\n",
       "      <td>Crossroads</td>\n",
       "      <td>Serious</td>\n",
       "      <td>51.482076</td>\n",
       "      <td>-0.173445</td>\n",
       "      <td>Darkness</td>\n",
       "      <td>...</td>\n",
       "      <td>1</td>\n",
       "      <td>2</td>\n",
       "      <td>Metropolitan Police</td>\n",
       "      <td>Dry</td>\n",
       "      <td>Single carriageway</td>\n",
       "      <td>30</td>\n",
       "      <td>17:25</td>\n",
       "      <td>Urban</td>\n",
       "      <td>Clear</td>\n",
       "      <td>Cars</td>\n",
       "    </tr>\n",
       "  </tbody>\n",
       "</table>\n",
       "<p>5 rows × 22 columns</p>\n",
       "</div>"
      ],
      "text/plain": [
       "   Unnamed: 0 Accident_Index Accident Date Day_of_Week  \\\n",
       "0           0  200901BS70001    2021-01-01    Thursday   \n",
       "1           1  200901BS70002    2021-01-05      Monday   \n",
       "2           2  200901BS70003    2021-01-04      Sunday   \n",
       "3           3  200901BS70004    2021-01-05      Monday   \n",
       "4           4  200901BS70005    2021-01-06     Tuesday   \n",
       "\n",
       "           Junction_Control          Junction_Detail Accident_Severity  \\\n",
       "0  Give way or uncontrolled  T or staggered junction           Serious   \n",
       "1  Give way or uncontrolled               Crossroads           Serious   \n",
       "2  Give way or uncontrolled  T or staggered junction             Minor   \n",
       "3       Auto traffic signal  T or staggered junction           Serious   \n",
       "4       Auto traffic signal               Crossroads           Serious   \n",
       "\n",
       "    Latitude  Longitude Light_Conditions  ... Number_of_Casualties  \\\n",
       "0  51.512273  -0.201349         Daylight  ...                    1   \n",
       "1  51.514399  -0.199248         Daylight  ...                   11   \n",
       "2  51.486668  -0.179599         Daylight  ...                    1   \n",
       "3  51.507804  -0.203110         Daylight  ...                    1   \n",
       "4  51.482076  -0.173445         Darkness  ...                    1   \n",
       "\n",
       "  Number_of_Vehicles         Police_Force  Road_Surface_Conditions  \\\n",
       "0                  2  Metropolitan Police                      Dry   \n",
       "1                  2  Metropolitan Police                      Wet   \n",
       "2                  2  Metropolitan Police                      Dry   \n",
       "3                  2  Metropolitan Police                   Frosty   \n",
       "4                  2  Metropolitan Police                      Dry   \n",
       "\n",
       "            Road_Type Speed_limit   Time  Urban_or_Rural_Area  \\\n",
       "0      One way street          30  15:11                Urban   \n",
       "1  Single carriageway          30  10:59                Urban   \n",
       "2  Single carriageway          30  14:19                Urban   \n",
       "3  Single carriageway          30  08:10                Urban   \n",
       "4  Single carriageway          30  17:25                Urban   \n",
       "\n",
       "  Weather_Conditions       Vehicle_Type  \n",
       "0              Clear               Cars  \n",
       "1              Clear               Cars  \n",
       "2              Clear               Cars  \n",
       "3              Other  Heavy Motorcycles  \n",
       "4              Clear               Cars  \n",
       "\n",
       "[5 rows x 22 columns]"
      ]
     },
     "execution_count": 5,
     "metadata": {},
     "output_type": "execute_result"
    }
   ],
   "source": [
    "data.head()"
   ]
  },
  {
   "cell_type": "code",
   "execution_count": 27,
   "metadata": {},
   "outputs": [
    {
     "data": {
      "text/html": [
       "<div>\n",
       "<style scoped>\n",
       "    .dataframe tbody tr th:only-of-type {\n",
       "        vertical-align: middle;\n",
       "    }\n",
       "\n",
       "    .dataframe tbody tr th {\n",
       "        vertical-align: top;\n",
       "    }\n",
       "\n",
       "    .dataframe thead th {\n",
       "        text-align: right;\n",
       "    }\n",
       "</style>\n",
       "<table border=\"1\" class=\"dataframe\">\n",
       "  <thead>\n",
       "    <tr style=\"text-align: right;\">\n",
       "      <th></th>\n",
       "      <th>Speed_limit</th>\n",
       "      <th>Number of Casualties</th>\n",
       "    </tr>\n",
       "  </thead>\n",
       "  <tbody>\n",
       "    <tr>\n",
       "      <th>0</th>\n",
       "      <td>10</td>\n",
       "      <td>4</td>\n",
       "    </tr>\n",
       "    <tr>\n",
       "      <th>1</th>\n",
       "      <td>15</td>\n",
       "      <td>3</td>\n",
       "    </tr>\n",
       "    <tr>\n",
       "      <th>2</th>\n",
       "      <td>20</td>\n",
       "      <td>3450</td>\n",
       "    </tr>\n",
       "    <tr>\n",
       "      <th>3</th>\n",
       "      <td>30</td>\n",
       "      <td>255418</td>\n",
       "    </tr>\n",
       "    <tr>\n",
       "      <th>4</th>\n",
       "      <td>40</td>\n",
       "      <td>37197</td>\n",
       "    </tr>\n",
       "    <tr>\n",
       "      <th>5</th>\n",
       "      <td>50</td>\n",
       "      <td>15373</td>\n",
       "    </tr>\n",
       "    <tr>\n",
       "      <th>6</th>\n",
       "      <td>60</td>\n",
       "      <td>71401</td>\n",
       "    </tr>\n",
       "    <tr>\n",
       "      <th>7</th>\n",
       "      <td>70</td>\n",
       "      <td>35034</td>\n",
       "    </tr>\n",
       "  </tbody>\n",
       "</table>\n",
       "</div>"
      ],
      "text/plain": [
       "   Speed_limit  Number of Casualties\n",
       "0           10                     4\n",
       "1           15                     3\n",
       "2           20                  3450\n",
       "3           30                255418\n",
       "4           40                 37197\n",
       "5           50                 15373\n",
       "6           60                 71401\n",
       "7           70                 35034"
      ]
     },
     "execution_count": 27,
     "metadata": {},
     "output_type": "execute_result"
    }
   ],
   "source": [
    "# Calculate the average casulality at different range of Speed_limit\n",
    "speed_casualties = data.groupby(['Speed_limit']).agg({'Number_of_Casualties':'sum'})\n",
    "speed_casualties.rename(columns={'Number_of_Casualties':'Number of Casualties'}).reset_index()"
   ]
  },
  {
   "cell_type": "code",
   "execution_count": 40,
   "metadata": {},
   "outputs": [
    {
     "data": {
      "text/html": [
       "<div>\n",
       "<style scoped>\n",
       "    .dataframe tbody tr th:only-of-type {\n",
       "        vertical-align: middle;\n",
       "    }\n",
       "\n",
       "    .dataframe tbody tr th {\n",
       "        vertical-align: top;\n",
       "    }\n",
       "\n",
       "    .dataframe thead th {\n",
       "        text-align: right;\n",
       "    }\n",
       "</style>\n",
       "<table border=\"1\" class=\"dataframe\">\n",
       "  <thead>\n",
       "    <tr style=\"text-align: right;\">\n",
       "      <th></th>\n",
       "      <th>Speed Range</th>\n",
       "      <th>Number_of_Casualties</th>\n",
       "    </tr>\n",
       "  </thead>\n",
       "  <tbody>\n",
       "    <tr>\n",
       "      <th>0</th>\n",
       "      <td>0-10</td>\n",
       "      <td>4</td>\n",
       "    </tr>\n",
       "    <tr>\n",
       "      <th>1</th>\n",
       "      <td>11-20</td>\n",
       "      <td>3453</td>\n",
       "    </tr>\n",
       "    <tr>\n",
       "      <th>2</th>\n",
       "      <td>21-30</td>\n",
       "      <td>255418</td>\n",
       "    </tr>\n",
       "    <tr>\n",
       "      <th>3</th>\n",
       "      <td>31-40</td>\n",
       "      <td>37197</td>\n",
       "    </tr>\n",
       "    <tr>\n",
       "      <th>4</th>\n",
       "      <td>41-50</td>\n",
       "      <td>15373</td>\n",
       "    </tr>\n",
       "    <tr>\n",
       "      <th>5</th>\n",
       "      <td>51-60</td>\n",
       "      <td>71401</td>\n",
       "    </tr>\n",
       "    <tr>\n",
       "      <th>6</th>\n",
       "      <td>61-70</td>\n",
       "      <td>35034</td>\n",
       "    </tr>\n",
       "    <tr>\n",
       "      <th>7</th>\n",
       "      <td>71-80</td>\n",
       "      <td>0</td>\n",
       "    </tr>\n",
       "  </tbody>\n",
       "</table>\n",
       "</div>"
      ],
      "text/plain": [
       "  Speed Range  Number_of_Casualties\n",
       "0        0-10                     4\n",
       "1       11-20                  3453\n",
       "2       21-30                255418\n",
       "3       31-40                 37197\n",
       "4       41-50                 15373\n",
       "5       51-60                 71401\n",
       "6       61-70                 35034\n",
       "7       71-80                     0"
      ]
     },
     "execution_count": 40,
     "metadata": {},
     "output_type": "execute_result"
    }
   ],
   "source": [
    "speed_bins = [0,10,20,30,40,50,60,70,80]\n",
    "speed_labels = ['0-10', '11-20', '21-30', '31-40', '41-50', '51-60', '61-70', '71-80']\n",
    "speed_casualties['Speed Range'] = pd.cut(speed_casualties.index,bins=speed_bins,labels = speed_labels,right=True)\n",
    "Speed_cas = speed_casualties.groupby('Speed Range').agg({'Number_of_Casualties':'sum'}).reset_index()\n",
    "Speed_cas"
   ]
  },
  {
   "cell_type": "code",
   "execution_count": 69,
   "metadata": {},
   "outputs": [],
   "source": [
    "# Speed_cas.plot(kind='bar', x='Speed Range', y='Number_of_Casualties', color='orange', edgecolor='black',align ='edge')\n",
    "# plt.title('Number of Casualties at Different Speed Ranges',fontdict={'fontsize':20})\n",
    "# plt.xlabel('Speed Range')\n",
    "# plt.legend()\n",
    "# plt.ylabel('Number of Casualties')\n",
    "# plt.xticks(rotation=0, ha='right')  # Adjust rotation and alignment of x-axis labels as needed\n",
    "# plt.show()"
   ]
  },
  {
   "cell_type": "code",
   "execution_count": 33,
   "metadata": {},
   "outputs": [
    {
     "data": {
      "text/html": [
       "<div>\n",
       "<style scoped>\n",
       "    .dataframe tbody tr th:only-of-type {\n",
       "        vertical-align: middle;\n",
       "    }\n",
       "\n",
       "    .dataframe tbody tr th {\n",
       "        vertical-align: top;\n",
       "    }\n",
       "\n",
       "    .dataframe thead th {\n",
       "        text-align: right;\n",
       "    }\n",
       "</style>\n",
       "<table border=\"1\" class=\"dataframe\">\n",
       "  <thead>\n",
       "    <tr style=\"text-align: right;\">\n",
       "      <th></th>\n",
       "      <th>Speed_limit</th>\n",
       "      <th>Number of Accidents</th>\n",
       "    </tr>\n",
       "  </thead>\n",
       "  <tbody>\n",
       "    <tr>\n",
       "      <th>0</th>\n",
       "      <td>10</td>\n",
       "      <td>3</td>\n",
       "    </tr>\n",
       "    <tr>\n",
       "      <th>1</th>\n",
       "      <td>15</td>\n",
       "      <td>2</td>\n",
       "    </tr>\n",
       "    <tr>\n",
       "      <th>2</th>\n",
       "      <td>20</td>\n",
       "      <td>2899</td>\n",
       "    </tr>\n",
       "    <tr>\n",
       "      <th>3</th>\n",
       "      <td>30</td>\n",
       "      <td>200040</td>\n",
       "    </tr>\n",
       "    <tr>\n",
       "      <th>4</th>\n",
       "      <td>40</td>\n",
       "      <td>25650</td>\n",
       "    </tr>\n",
       "    <tr>\n",
       "      <th>5</th>\n",
       "      <td>50</td>\n",
       "      <td>10191</td>\n",
       "    </tr>\n",
       "    <tr>\n",
       "      <th>6</th>\n",
       "      <td>60</td>\n",
       "      <td>46825</td>\n",
       "    </tr>\n",
       "    <tr>\n",
       "      <th>7</th>\n",
       "      <td>70</td>\n",
       "      <td>22362</td>\n",
       "    </tr>\n",
       "  </tbody>\n",
       "</table>\n",
       "</div>"
      ],
      "text/plain": [
       "   Speed_limit  Number of Accidents\n",
       "0           10                    3\n",
       "1           15                    2\n",
       "2           20                 2899\n",
       "3           30               200040\n",
       "4           40                25650\n",
       "5           50                10191\n",
       "6           60                46825\n",
       "7           70                22362"
      ]
     },
     "execution_count": 33,
     "metadata": {},
     "output_type": "execute_result"
    }
   ],
   "source": [
    "speed_accidents = data.groupby(['Speed_limit']).agg({'Accident_Index':'count'})\n",
    "speed_accidents.rename(columns={'Accident_Index':'Number of Accidents'}).reset_index()"
   ]
  },
  {
   "cell_type": "code",
   "execution_count": 46,
   "metadata": {},
   "outputs": [
    {
     "data": {
      "text/html": [
       "<div>\n",
       "<style scoped>\n",
       "    .dataframe tbody tr th:only-of-type {\n",
       "        vertical-align: middle;\n",
       "    }\n",
       "\n",
       "    .dataframe tbody tr th {\n",
       "        vertical-align: top;\n",
       "    }\n",
       "\n",
       "    .dataframe thead th {\n",
       "        text-align: right;\n",
       "    }\n",
       "</style>\n",
       "<table border=\"1\" class=\"dataframe\">\n",
       "  <thead>\n",
       "    <tr style=\"text-align: right;\">\n",
       "      <th></th>\n",
       "      <th>Speed Range</th>\n",
       "      <th>Accident_Index</th>\n",
       "    </tr>\n",
       "  </thead>\n",
       "  <tbody>\n",
       "    <tr>\n",
       "      <th>0</th>\n",
       "      <td>0-10</td>\n",
       "      <td>3</td>\n",
       "    </tr>\n",
       "    <tr>\n",
       "      <th>1</th>\n",
       "      <td>11-20</td>\n",
       "      <td>2901</td>\n",
       "    </tr>\n",
       "    <tr>\n",
       "      <th>2</th>\n",
       "      <td>21-30</td>\n",
       "      <td>200040</td>\n",
       "    </tr>\n",
       "    <tr>\n",
       "      <th>3</th>\n",
       "      <td>31-40</td>\n",
       "      <td>25650</td>\n",
       "    </tr>\n",
       "    <tr>\n",
       "      <th>4</th>\n",
       "      <td>41-50</td>\n",
       "      <td>10191</td>\n",
       "    </tr>\n",
       "    <tr>\n",
       "      <th>5</th>\n",
       "      <td>51-60</td>\n",
       "      <td>46825</td>\n",
       "    </tr>\n",
       "    <tr>\n",
       "      <th>6</th>\n",
       "      <td>61-70</td>\n",
       "      <td>22362</td>\n",
       "    </tr>\n",
       "    <tr>\n",
       "      <th>7</th>\n",
       "      <td>71-80</td>\n",
       "      <td>0</td>\n",
       "    </tr>\n",
       "  </tbody>\n",
       "</table>\n",
       "</div>"
      ],
      "text/plain": [
       "  Speed Range  Accident_Index\n",
       "0        0-10               3\n",
       "1       11-20            2901\n",
       "2       21-30          200040\n",
       "3       31-40           25650\n",
       "4       41-50           10191\n",
       "5       51-60           46825\n",
       "6       61-70           22362\n",
       "7       71-80               0"
      ]
     },
     "execution_count": 46,
     "metadata": {},
     "output_type": "execute_result"
    }
   ],
   "source": [
    "speed_bins = [0,10,20,30,40,50,60,70,80]\n",
    "speed_labels = ['0-10', '11-20', '21-30', '31-40', '41-50', '51-60', '61-70', '71-80']\n",
    "speed_accidents['Speed Range'] = pd.cut(speed_accidents.index,bins=speed_bins,labels = speed_labels,right=True)\n",
    "Speed_acc = speed_accidents.groupby('Speed Range').agg({'Accident_Index':'sum'}).reset_index()\n",
    "Speed_acc"
   ]
  },
  {
   "cell_type": "code",
   "execution_count": 68,
   "metadata": {},
   "outputs": [],
   "source": [
    "\n",
    "# # First subplot\n",
    "# plt.subplot(121)\n",
    "# Speed_acc.plot(kind='bar', x='Speed Range', y='Accident_Index', color='purple', edgecolor='black', align='edge')\n",
    "# plt.title('Number of Accidents at Different Speed Ranges', fontdict={'fontsize': 20})\n",
    "# plt.xlabel('Speed Range')\n",
    "# plt.ylabel('Total Accidents')\n",
    "# plt.xticks(rotation=0, ha='right')  # Adjust rotation and alignment of x-axis labels as needed\n",
    "\n",
    "# # Second subplot\n",
    "# plt.subplot(122)\n",
    "# Speed_cas.plot(kind='bar', x='Speed Range', y='Number_of_Casualties', color='orange', edgecolor='black', align='edge')\n",
    "# plt.title('Number of Casualties at Different Speed Ranges', fontdict={'fontsize': 20})\n",
    "# plt.xlabel('Speed Range')\n",
    "# plt.legend()\n",
    "# plt.ylabel('Number of Casualties')\n",
    "# plt.xticks(rotation=0, ha='right')  # Adjust rotation and alignment of x-axis labels as needed\n"
   ]
  },
  {
   "cell_type": "code",
   "execution_count": 79,
   "metadata": {},
   "outputs": [
    {
     "data": {
      "application/vnd.plotly.v1+json": {
       "config": {
        "plotlyServerURL": "https://plot.ly"
       },
       "data": [
        {
         "alignmentgroup": "True",
         "hovertemplate": "Speed Range=%{x}<br>Accident_Index=%{y}<extra></extra>",
         "legendgroup": "",
         "marker": {
          "color": "#636efa",
          "pattern": {
           "shape": ""
          }
         },
         "name": "",
         "offsetgroup": "",
         "orientation": "v",
         "showlegend": false,
         "textposition": "auto",
         "type": "bar",
         "x": [
          "0-10",
          "11-20",
          "21-30",
          "31-40",
          "41-50",
          "51-60",
          "61-70",
          "71-80"
         ],
         "xaxis": "x",
         "y": [
          3,
          2901,
          200040,
          25650,
          10191,
          46825,
          22362,
          0
         ],
         "yaxis": "y"
        }
       ],
       "layout": {
        "barmode": "relative",
        "legend": {
         "tracegroupgap": 0
        },
        "margin": {
         "t": 60
        },
        "template": {
         "data": {
          "bar": [
           {
            "error_x": {
             "color": "#2a3f5f"
            },
            "error_y": {
             "color": "#2a3f5f"
            },
            "marker": {
             "line": {
              "color": "#E5ECF6",
              "width": 0.5
             },
             "pattern": {
              "fillmode": "overlay",
              "size": 10,
              "solidity": 0.2
             }
            },
            "type": "bar"
           }
          ],
          "barpolar": [
           {
            "marker": {
             "line": {
              "color": "#E5ECF6",
              "width": 0.5
             },
             "pattern": {
              "fillmode": "overlay",
              "size": 10,
              "solidity": 0.2
             }
            },
            "type": "barpolar"
           }
          ],
          "carpet": [
           {
            "aaxis": {
             "endlinecolor": "#2a3f5f",
             "gridcolor": "white",
             "linecolor": "white",
             "minorgridcolor": "white",
             "startlinecolor": "#2a3f5f"
            },
            "baxis": {
             "endlinecolor": "#2a3f5f",
             "gridcolor": "white",
             "linecolor": "white",
             "minorgridcolor": "white",
             "startlinecolor": "#2a3f5f"
            },
            "type": "carpet"
           }
          ],
          "choropleth": [
           {
            "colorbar": {
             "outlinewidth": 0,
             "ticks": ""
            },
            "type": "choropleth"
           }
          ],
          "contour": [
           {
            "colorbar": {
             "outlinewidth": 0,
             "ticks": ""
            },
            "colorscale": [
             [
              0,
              "#0d0887"
             ],
             [
              0.1111111111111111,
              "#46039f"
             ],
             [
              0.2222222222222222,
              "#7201a8"
             ],
             [
              0.3333333333333333,
              "#9c179e"
             ],
             [
              0.4444444444444444,
              "#bd3786"
             ],
             [
              0.5555555555555556,
              "#d8576b"
             ],
             [
              0.6666666666666666,
              "#ed7953"
             ],
             [
              0.7777777777777778,
              "#fb9f3a"
             ],
             [
              0.8888888888888888,
              "#fdca26"
             ],
             [
              1,
              "#f0f921"
             ]
            ],
            "type": "contour"
           }
          ],
          "contourcarpet": [
           {
            "colorbar": {
             "outlinewidth": 0,
             "ticks": ""
            },
            "type": "contourcarpet"
           }
          ],
          "heatmap": [
           {
            "colorbar": {
             "outlinewidth": 0,
             "ticks": ""
            },
            "colorscale": [
             [
              0,
              "#0d0887"
             ],
             [
              0.1111111111111111,
              "#46039f"
             ],
             [
              0.2222222222222222,
              "#7201a8"
             ],
             [
              0.3333333333333333,
              "#9c179e"
             ],
             [
              0.4444444444444444,
              "#bd3786"
             ],
             [
              0.5555555555555556,
              "#d8576b"
             ],
             [
              0.6666666666666666,
              "#ed7953"
             ],
             [
              0.7777777777777778,
              "#fb9f3a"
             ],
             [
              0.8888888888888888,
              "#fdca26"
             ],
             [
              1,
              "#f0f921"
             ]
            ],
            "type": "heatmap"
           }
          ],
          "heatmapgl": [
           {
            "colorbar": {
             "outlinewidth": 0,
             "ticks": ""
            },
            "colorscale": [
             [
              0,
              "#0d0887"
             ],
             [
              0.1111111111111111,
              "#46039f"
             ],
             [
              0.2222222222222222,
              "#7201a8"
             ],
             [
              0.3333333333333333,
              "#9c179e"
             ],
             [
              0.4444444444444444,
              "#bd3786"
             ],
             [
              0.5555555555555556,
              "#d8576b"
             ],
             [
              0.6666666666666666,
              "#ed7953"
             ],
             [
              0.7777777777777778,
              "#fb9f3a"
             ],
             [
              0.8888888888888888,
              "#fdca26"
             ],
             [
              1,
              "#f0f921"
             ]
            ],
            "type": "heatmapgl"
           }
          ],
          "histogram": [
           {
            "marker": {
             "pattern": {
              "fillmode": "overlay",
              "size": 10,
              "solidity": 0.2
             }
            },
            "type": "histogram"
           }
          ],
          "histogram2d": [
           {
            "colorbar": {
             "outlinewidth": 0,
             "ticks": ""
            },
            "colorscale": [
             [
              0,
              "#0d0887"
             ],
             [
              0.1111111111111111,
              "#46039f"
             ],
             [
              0.2222222222222222,
              "#7201a8"
             ],
             [
              0.3333333333333333,
              "#9c179e"
             ],
             [
              0.4444444444444444,
              "#bd3786"
             ],
             [
              0.5555555555555556,
              "#d8576b"
             ],
             [
              0.6666666666666666,
              "#ed7953"
             ],
             [
              0.7777777777777778,
              "#fb9f3a"
             ],
             [
              0.8888888888888888,
              "#fdca26"
             ],
             [
              1,
              "#f0f921"
             ]
            ],
            "type": "histogram2d"
           }
          ],
          "histogram2dcontour": [
           {
            "colorbar": {
             "outlinewidth": 0,
             "ticks": ""
            },
            "colorscale": [
             [
              0,
              "#0d0887"
             ],
             [
              0.1111111111111111,
              "#46039f"
             ],
             [
              0.2222222222222222,
              "#7201a8"
             ],
             [
              0.3333333333333333,
              "#9c179e"
             ],
             [
              0.4444444444444444,
              "#bd3786"
             ],
             [
              0.5555555555555556,
              "#d8576b"
             ],
             [
              0.6666666666666666,
              "#ed7953"
             ],
             [
              0.7777777777777778,
              "#fb9f3a"
             ],
             [
              0.8888888888888888,
              "#fdca26"
             ],
             [
              1,
              "#f0f921"
             ]
            ],
            "type": "histogram2dcontour"
           }
          ],
          "mesh3d": [
           {
            "colorbar": {
             "outlinewidth": 0,
             "ticks": ""
            },
            "type": "mesh3d"
           }
          ],
          "parcoords": [
           {
            "line": {
             "colorbar": {
              "outlinewidth": 0,
              "ticks": ""
             }
            },
            "type": "parcoords"
           }
          ],
          "pie": [
           {
            "automargin": true,
            "type": "pie"
           }
          ],
          "scatter": [
           {
            "fillpattern": {
             "fillmode": "overlay",
             "size": 10,
             "solidity": 0.2
            },
            "type": "scatter"
           }
          ],
          "scatter3d": [
           {
            "line": {
             "colorbar": {
              "outlinewidth": 0,
              "ticks": ""
             }
            },
            "marker": {
             "colorbar": {
              "outlinewidth": 0,
              "ticks": ""
             }
            },
            "type": "scatter3d"
           }
          ],
          "scattercarpet": [
           {
            "marker": {
             "colorbar": {
              "outlinewidth": 0,
              "ticks": ""
             }
            },
            "type": "scattercarpet"
           }
          ],
          "scattergeo": [
           {
            "marker": {
             "colorbar": {
              "outlinewidth": 0,
              "ticks": ""
             }
            },
            "type": "scattergeo"
           }
          ],
          "scattergl": [
           {
            "marker": {
             "colorbar": {
              "outlinewidth": 0,
              "ticks": ""
             }
            },
            "type": "scattergl"
           }
          ],
          "scattermapbox": [
           {
            "marker": {
             "colorbar": {
              "outlinewidth": 0,
              "ticks": ""
             }
            },
            "type": "scattermapbox"
           }
          ],
          "scatterpolar": [
           {
            "marker": {
             "colorbar": {
              "outlinewidth": 0,
              "ticks": ""
             }
            },
            "type": "scatterpolar"
           }
          ],
          "scatterpolargl": [
           {
            "marker": {
             "colorbar": {
              "outlinewidth": 0,
              "ticks": ""
             }
            },
            "type": "scatterpolargl"
           }
          ],
          "scatterternary": [
           {
            "marker": {
             "colorbar": {
              "outlinewidth": 0,
              "ticks": ""
             }
            },
            "type": "scatterternary"
           }
          ],
          "surface": [
           {
            "colorbar": {
             "outlinewidth": 0,
             "ticks": ""
            },
            "colorscale": [
             [
              0,
              "#0d0887"
             ],
             [
              0.1111111111111111,
              "#46039f"
             ],
             [
              0.2222222222222222,
              "#7201a8"
             ],
             [
              0.3333333333333333,
              "#9c179e"
             ],
             [
              0.4444444444444444,
              "#bd3786"
             ],
             [
              0.5555555555555556,
              "#d8576b"
             ],
             [
              0.6666666666666666,
              "#ed7953"
             ],
             [
              0.7777777777777778,
              "#fb9f3a"
             ],
             [
              0.8888888888888888,
              "#fdca26"
             ],
             [
              1,
              "#f0f921"
             ]
            ],
            "type": "surface"
           }
          ],
          "table": [
           {
            "cells": {
             "fill": {
              "color": "#EBF0F8"
             },
             "line": {
              "color": "white"
             }
            },
            "header": {
             "fill": {
              "color": "#C8D4E3"
             },
             "line": {
              "color": "white"
             }
            },
            "type": "table"
           }
          ]
         },
         "layout": {
          "annotationdefaults": {
           "arrowcolor": "#2a3f5f",
           "arrowhead": 0,
           "arrowwidth": 1
          },
          "autotypenumbers": "strict",
          "coloraxis": {
           "colorbar": {
            "outlinewidth": 0,
            "ticks": ""
           }
          },
          "colorscale": {
           "diverging": [
            [
             0,
             "#8e0152"
            ],
            [
             0.1,
             "#c51b7d"
            ],
            [
             0.2,
             "#de77ae"
            ],
            [
             0.3,
             "#f1b6da"
            ],
            [
             0.4,
             "#fde0ef"
            ],
            [
             0.5,
             "#f7f7f7"
            ],
            [
             0.6,
             "#e6f5d0"
            ],
            [
             0.7,
             "#b8e186"
            ],
            [
             0.8,
             "#7fbc41"
            ],
            [
             0.9,
             "#4d9221"
            ],
            [
             1,
             "#276419"
            ]
           ],
           "sequential": [
            [
             0,
             "#0d0887"
            ],
            [
             0.1111111111111111,
             "#46039f"
            ],
            [
             0.2222222222222222,
             "#7201a8"
            ],
            [
             0.3333333333333333,
             "#9c179e"
            ],
            [
             0.4444444444444444,
             "#bd3786"
            ],
            [
             0.5555555555555556,
             "#d8576b"
            ],
            [
             0.6666666666666666,
             "#ed7953"
            ],
            [
             0.7777777777777778,
             "#fb9f3a"
            ],
            [
             0.8888888888888888,
             "#fdca26"
            ],
            [
             1,
             "#f0f921"
            ]
           ],
           "sequentialminus": [
            [
             0,
             "#0d0887"
            ],
            [
             0.1111111111111111,
             "#46039f"
            ],
            [
             0.2222222222222222,
             "#7201a8"
            ],
            [
             0.3333333333333333,
             "#9c179e"
            ],
            [
             0.4444444444444444,
             "#bd3786"
            ],
            [
             0.5555555555555556,
             "#d8576b"
            ],
            [
             0.6666666666666666,
             "#ed7953"
            ],
            [
             0.7777777777777778,
             "#fb9f3a"
            ],
            [
             0.8888888888888888,
             "#fdca26"
            ],
            [
             1,
             "#f0f921"
            ]
           ]
          },
          "colorway": [
           "#636efa",
           "#EF553B",
           "#00cc96",
           "#ab63fa",
           "#FFA15A",
           "#19d3f3",
           "#FF6692",
           "#B6E880",
           "#FF97FF",
           "#FECB52"
          ],
          "font": {
           "color": "#2a3f5f"
          },
          "geo": {
           "bgcolor": "white",
           "lakecolor": "white",
           "landcolor": "#E5ECF6",
           "showlakes": true,
           "showland": true,
           "subunitcolor": "white"
          },
          "hoverlabel": {
           "align": "left"
          },
          "hovermode": "closest",
          "mapbox": {
           "style": "light"
          },
          "paper_bgcolor": "white",
          "plot_bgcolor": "#E5ECF6",
          "polar": {
           "angularaxis": {
            "gridcolor": "white",
            "linecolor": "white",
            "ticks": ""
           },
           "bgcolor": "#E5ECF6",
           "radialaxis": {
            "gridcolor": "white",
            "linecolor": "white",
            "ticks": ""
           }
          },
          "scene": {
           "xaxis": {
            "backgroundcolor": "#E5ECF6",
            "gridcolor": "white",
            "gridwidth": 2,
            "linecolor": "white",
            "showbackground": true,
            "ticks": "",
            "zerolinecolor": "white"
           },
           "yaxis": {
            "backgroundcolor": "#E5ECF6",
            "gridcolor": "white",
            "gridwidth": 2,
            "linecolor": "white",
            "showbackground": true,
            "ticks": "",
            "zerolinecolor": "white"
           },
           "zaxis": {
            "backgroundcolor": "#E5ECF6",
            "gridcolor": "white",
            "gridwidth": 2,
            "linecolor": "white",
            "showbackground": true,
            "ticks": "",
            "zerolinecolor": "white"
           }
          },
          "shapedefaults": {
           "line": {
            "color": "#2a3f5f"
           }
          },
          "ternary": {
           "aaxis": {
            "gridcolor": "white",
            "linecolor": "white",
            "ticks": ""
           },
           "baxis": {
            "gridcolor": "white",
            "linecolor": "white",
            "ticks": ""
           },
           "bgcolor": "#E5ECF6",
           "caxis": {
            "gridcolor": "white",
            "linecolor": "white",
            "ticks": ""
           }
          },
          "title": {
           "x": 0.05
          },
          "xaxis": {
           "automargin": true,
           "gridcolor": "white",
           "linecolor": "white",
           "ticks": "",
           "title": {
            "standoff": 15
           },
           "zerolinecolor": "white",
           "zerolinewidth": 2
          },
          "yaxis": {
           "automargin": true,
           "gridcolor": "white",
           "linecolor": "white",
           "ticks": "",
           "title": {
            "standoff": 15
           },
           "zerolinecolor": "white",
           "zerolinewidth": 2
          }
         }
        },
        "xaxis": {
         "anchor": "y",
         "domain": [
          0,
          1
         ],
         "title": {
          "text": "Speed Range"
         }
        },
        "yaxis": {
         "anchor": "x",
         "domain": [
          0,
          1
         ],
         "title": {
          "text": "Accident_Index"
         }
        }
       }
      }
     },
     "metadata": {},
     "output_type": "display_data"
    }
   ],
   "source": [
    "import plotly.express as px \n",
    "\n",
    " \n",
    "# plotting the bar chart\n",
    "fig = px.bar(Speed_acc, x=Speed_acc[\"Speed Range\"], y=Speed_acc[\"Accident_Index\"]) \n",
    "fig = px.histogram(Speed_acc, x=Speed_acc[\"Speed Range\"], y=Speed_acc[\"Accident_Index\"])  \n",
    "# showing the plot\n",
    "fig.show()"
   ]
  },
  {
   "cell_type": "code",
   "execution_count": 67,
   "metadata": {},
   "outputs": [
    {
     "data": {
      "image/png": "[encoded data removed]",
      "text/plain": [
       "<Figure size 1000x800 with 2 Axes>"
      ]
     },
     "metadata": {},
     "output_type": "display_data"
    }
   ],
   "source": [
    "\n",
    "# Create a figure and axes\n",
    "fig, axs = plt.subplots(2, 1, figsize=(10, 8))\n",
    "\n",
    "# First subplot\n",
    "bars1 = axs[0].bar(Speed_acc['Speed Range'], Speed_acc['Accident_Index'], color='purple', edgecolor='black', align='edge')\n",
    "axs[0].set_title('Number of Accidents at Different Speed Ranges', fontdict={'fontsize': 20})\n",
    "axs[0].set_xlabel('Speed Range')\n",
    "axs[0].set_ylabel('Total Accidents')\n",
    "for bar in bars1:\n",
    "    yval = bar.get_height()\n",
    "    axs[0].text(bar.get_x() + bar.get_width() / 2, yval, round(yval, 1), ha='center', va='bottom')\n",
    "\n",
    "\n",
    "\n",
    "# Second subplot\n",
    "bars2 = axs[1].bar(Speed_cas['Speed Range'], Speed_cas['Number_of_Casualties'], color='orange', edgecolor='black', align='edge')\n",
    "axs[1].set_title('Number of Casualties at Different Speed Ranges', fontdict={'fontsize': 20})\n",
    "axs[1].set_xlabel('Speed Range')\n",
    "axs[1].set_ylabel('Number of Casualties')\n",
    "for bar in bars2:\n",
    "    yval = bar.get_height()\n",
    "    axs[1].text(bar.get_x() + bar.get_width() / 2, yval, round(yval, 1), ha='center', va='bottom')\n",
    "# axs[1].tick_params(axis='x', rotation=0, ha='right')  # Adjust rotation and alignment of x-axis labels as needed\n",
    "\n",
    "\n",
    "\n",
    "plt.tight_layout()  # Adjust layout to prevent overlapping\n",
    "\n",
    "plt.show()  # Display the plot\n"
   ]
  },
  {
   "cell_type": "code",
   "execution_count": 194,
   "metadata": {},
   "outputs": [
    {
     "data": {
      "text/html": [
       "<div>\n",
       "<style scoped>\n",
       "    .dataframe tbody tr th:only-of-type {\n",
       "        vertical-align: middle;\n",
       "    }\n",
       "\n",
       "    .dataframe tbody tr th {\n",
       "        vertical-align: top;\n",
       "    }\n",
       "\n",
       "    .dataframe thead th {\n",
       "        text-align: right;\n",
       "    }\n",
       "</style>\n",
       "<table border=\"1\" class=\"dataframe\">\n",
       "  <thead>\n",
       "    <tr style=\"text-align: right;\">\n",
       "      <th></th>\n",
       "      <th>Unnamed: 0</th>\n",
       "      <th>Accident_Index</th>\n",
       "      <th>Accident Date</th>\n",
       "      <th>Day_of_Week</th>\n",
       "      <th>Junction_Control</th>\n",
       "      <th>Junction_Detail</th>\n",
       "      <th>Accident_Severity</th>\n",
       "      <th>Latitude</th>\n",
       "      <th>Longitude</th>\n",
       "      <th>Light_Conditions</th>\n",
       "      <th>...</th>\n",
       "      <th>Number_of_Casualties</th>\n",
       "      <th>Number_of_Vehicles</th>\n",
       "      <th>Police_Force</th>\n",
       "      <th>Road_Surface_Conditions</th>\n",
       "      <th>Road_Type</th>\n",
       "      <th>Speed_limit</th>\n",
       "      <th>Time</th>\n",
       "      <th>Urban_or_Rural_Area</th>\n",
       "      <th>Weather_Conditions</th>\n",
       "      <th>Vehicle_Type</th>\n",
       "    </tr>\n",
       "  </thead>\n",
       "  <tbody>\n",
       "    <tr>\n",
       "      <th>0</th>\n",
       "      <td>0</td>\n",
       "      <td>200901BS70001</td>\n",
       "      <td>2021-01-01</td>\n",
       "      <td>Thursday</td>\n",
       "      <td>Give way or uncontrolled</td>\n",
       "      <td>T or staggered junction</td>\n",
       "      <td>Serious</td>\n",
       "      <td>51.512273</td>\n",
       "      <td>-0.201349</td>\n",
       "      <td>Daylight</td>\n",
       "      <td>...</td>\n",
       "      <td>1</td>\n",
       "      <td>2</td>\n",
       "      <td>Metropolitan Police</td>\n",
       "      <td>Dry</td>\n",
       "      <td>One way street</td>\n",
       "      <td>30</td>\n",
       "      <td>15:11</td>\n",
       "      <td>Urban</td>\n",
       "      <td>Clear</td>\n",
       "      <td>Cars</td>\n",
       "    </tr>\n",
       "    <tr>\n",
       "      <th>1</th>\n",
       "      <td>1</td>\n",
       "      <td>200901BS70002</td>\n",
       "      <td>2021-01-05</td>\n",
       "      <td>Monday</td>\n",
       "      <td>Give way or uncontrolled</td>\n",
       "      <td>Crossroads</td>\n",
       "      <td>Serious</td>\n",
       "      <td>51.514399</td>\n",
       "      <td>-0.199248</td>\n",
       "      <td>Daylight</td>\n",
       "      <td>...</td>\n",
       "      <td>11</td>\n",
       "      <td>2</td>\n",
       "      <td>Metropolitan Police</td>\n",
       "      <td>Wet</td>\n",
       "      <td>Single carriageway</td>\n",
       "      <td>30</td>\n",
       "      <td>10:59</td>\n",
       "      <td>Urban</td>\n",
       "      <td>Clear</td>\n",
       "      <td>Cars</td>\n",
       "    </tr>\n",
       "    <tr>\n",
       "      <th>2</th>\n",
       "      <td>2</td>\n",
       "      <td>200901BS70003</td>\n",
       "      <td>2021-01-04</td>\n",
       "      <td>Sunday</td>\n",
       "      <td>Give way or uncontrolled</td>\n",
       "      <td>T or staggered junction</td>\n",
       "      <td>Minor</td>\n",
       "      <td>51.486668</td>\n",
       "      <td>-0.179599</td>\n",
       "      <td>Daylight</td>\n",
       "      <td>...</td>\n",
       "      <td>1</td>\n",
       "      <td>2</td>\n",
       "      <td>Metropolitan Police</td>\n",
       "      <td>Dry</td>\n",
       "      <td>Single carriageway</td>\n",
       "      <td>30</td>\n",
       "      <td>14:19</td>\n",
       "      <td>Urban</td>\n",
       "      <td>Clear</td>\n",
       "      <td>Cars</td>\n",
       "    </tr>\n",
       "    <tr>\n",
       "      <th>3</th>\n",
       "      <td>3</td>\n",
       "      <td>200901BS70004</td>\n",
       "      <td>2021-01-05</td>\n",
       "      <td>Monday</td>\n",
       "      <td>Auto traffic signal</td>\n",
       "      <td>T or staggered junction</td>\n",
       "      <td>Serious</td>\n",
       "      <td>51.507804</td>\n",
       "      <td>-0.203110</td>\n",
       "      <td>Daylight</td>\n",
       "      <td>...</td>\n",
       "      <td>1</td>\n",
       "      <td>2</td>\n",
       "      <td>Metropolitan Police</td>\n",
       "      <td>Frosty</td>\n",
       "      <td>Single carriageway</td>\n",
       "      <td>30</td>\n",
       "      <td>08:10</td>\n",
       "      <td>Urban</td>\n",
       "      <td>Other</td>\n",
       "      <td>Heavy Motorcycles</td>\n",
       "    </tr>\n",
       "    <tr>\n",
       "      <th>4</th>\n",
       "      <td>4</td>\n",
       "      <td>200901BS70005</td>\n",
       "      <td>2021-01-06</td>\n",
       "      <td>Tuesday</td>\n",
       "      <td>Auto traffic signal</td>\n",
       "      <td>Crossroads</td>\n",
       "      <td>Serious</td>\n",
       "      <td>51.482076</td>\n",
       "      <td>-0.173445</td>\n",
       "      <td>Darkness</td>\n",
       "      <td>...</td>\n",
       "      <td>1</td>\n",
       "      <td>2</td>\n",
       "      <td>Metropolitan Police</td>\n",
       "      <td>Dry</td>\n",
       "      <td>Single carriageway</td>\n",
       "      <td>30</td>\n",
       "      <td>17:25</td>\n",
       "      <td>Urban</td>\n",
       "      <td>Clear</td>\n",
       "      <td>Cars</td>\n",
       "    </tr>\n",
       "  </tbody>\n",
       "</table>\n",
       "<p>5 rows × 22 columns</p>\n",
       "</div>"
      ],
      "text/plain": [
       "   Unnamed: 0 Accident_Index Accident Date Day_of_Week  \\\n",
       "0           0  200901BS70001    2021-01-01    Thursday   \n",
       "1           1  200901BS70002    2021-01-05      Monday   \n",
       "2           2  200901BS70003    2021-01-04      Sunday   \n",
       "3           3  200901BS70004    2021-01-05      Monday   \n",
       "4           4  200901BS70005    2021-01-06     Tuesday   \n",
       "\n",
       "           Junction_Control          Junction_Detail Accident_Severity  \\\n",
       "0  Give way or uncontrolled  T or staggered junction           Serious   \n",
       "1  Give way or uncontrolled               Crossroads           Serious   \n",
       "2  Give way or uncontrolled  T or staggered junction             Minor   \n",
       "3       Auto traffic signal  T or staggered junction           Serious   \n",
       "4       Auto traffic signal               Crossroads           Serious   \n",
       "\n",
       "    Latitude  Longitude Light_Conditions  ... Number_of_Casualties  \\\n",
       "0  51.512273  -0.201349         Daylight  ...                    1   \n",
       "1  51.514399  -0.199248         Daylight  ...                   11   \n",
       "2  51.486668  -0.179599         Daylight  ...                    1   \n",
       "3  51.507804  -0.203110         Daylight  ...                    1   \n",
       "4  51.482076  -0.173445         Darkness  ...                    1   \n",
       "\n",
       "  Number_of_Vehicles         Police_Force  Road_Surface_Conditions  \\\n",
       "0                  2  Metropolitan Police                      Dry   \n",
       "1                  2  Metropolitan Police                      Wet   \n",
       "2                  2  Metropolitan Police                      Dry   \n",
       "3                  2  Metropolitan Police                   Frosty   \n",
       "4                  2  Metropolitan Police                      Dry   \n",
       "\n",
       "            Road_Type Speed_limit   Time  Urban_or_Rural_Area  \\\n",
       "0      One way street          30  15:11                Urban   \n",
       "1  Single carriageway          30  10:59                Urban   \n",
       "2  Single carriageway          30  14:19                Urban   \n",
       "3  Single carriageway          30  08:10                Urban   \n",
       "4  Single carriageway          30  17:25                Urban   \n",
       "\n",
       "  Weather_Conditions       Vehicle_Type  \n",
       "0              Clear               Cars  \n",
       "1              Clear               Cars  \n",
       "2              Clear               Cars  \n",
       "3              Other  Heavy Motorcycles  \n",
       "4              Clear               Cars  \n",
       "\n",
       "[5 rows x 22 columns]"
      ]
     },
     "execution_count": 194,
     "metadata": {},
     "output_type": "execute_result"
    }
   ],
   "source": [
    "data.head()"
   ]
  },
  {
   "cell_type": "code",
   "execution_count": 3,
   "metadata": {},
   "outputs": [],
   "source": [
    "data['Accident Date'] = pd.to_datetime(data['Accident Date'], format='%Y-%m-%d')\n",
    "# Extract month names\n",
    "data['Month Name'] = data['Accident Date'].dt.strftime('%B')"
   ]
  },
  {
   "cell_type": "code",
   "execution_count": 4,
   "metadata": {},
   "outputs": [
    {
     "name": "stdout",
     "output_type": "stream",
     "text": [
      "Monthly Data:\n"
     ]
    },
    {
     "data": {
      "text/html": [
       "<div>\n",
       "<style scoped>\n",
       "    .dataframe tbody tr th:only-of-type {\n",
       "        vertical-align: middle;\n",
       "    }\n",
       "\n",
       "    .dataframe tbody tr th {\n",
       "        vertical-align: top;\n",
       "    }\n",
       "\n",
       "    .dataframe thead th {\n",
       "        text-align: right;\n",
       "    }\n",
       "</style>\n",
       "<table border=\"1\" class=\"dataframe\">\n",
       "  <thead>\n",
       "    <tr style=\"text-align: right;\">\n",
       "      <th></th>\n",
       "      <th>Accident Month</th>\n",
       "      <th>Month Name</th>\n",
       "      <th>Number_of_Casualties</th>\n",
       "    </tr>\n",
       "  </thead>\n",
       "  <tbody>\n",
       "    <tr>\n",
       "      <th>0</th>\n",
       "      <td>2021-01</td>\n",
       "      <td>January</td>\n",
       "      <td>13417</td>\n",
       "    </tr>\n",
       "    <tr>\n",
       "      <th>1</th>\n",
       "      <td>2021-02</td>\n",
       "      <td>February</td>\n",
       "      <td>10950</td>\n",
       "    </tr>\n",
       "    <tr>\n",
       "      <th>2</th>\n",
       "      <td>2021-03</td>\n",
       "      <td>March</td>\n",
       "      <td>13202</td>\n",
       "    </tr>\n",
       "    <tr>\n",
       "      <th>3</th>\n",
       "      <td>2021-04</td>\n",
       "      <td>April</td>\n",
       "      <td>12715</td>\n",
       "    </tr>\n",
       "    <tr>\n",
       "      <th>4</th>\n",
       "      <td>2021-05</td>\n",
       "      <td>May</td>\n",
       "      <td>13811</td>\n",
       "    </tr>\n",
       "    <tr>\n",
       "      <th>5</th>\n",
       "      <td>2021-06</td>\n",
       "      <td>June</td>\n",
       "      <td>13936</td>\n",
       "    </tr>\n",
       "    <tr>\n",
       "      <th>6</th>\n",
       "      <td>2021-07</td>\n",
       "      <td>July</td>\n",
       "      <td>14300</td>\n",
       "    </tr>\n",
       "    <tr>\n",
       "      <th>7</th>\n",
       "      <td>2021-08</td>\n",
       "      <td>August</td>\n",
       "      <td>13415</td>\n",
       "    </tr>\n",
       "    <tr>\n",
       "      <th>8</th>\n",
       "      <td>2021-09</td>\n",
       "      <td>September</td>\n",
       "      <td>13792</td>\n",
       "    </tr>\n",
       "    <tr>\n",
       "      <th>9</th>\n",
       "      <td>2021-10</td>\n",
       "      <td>October</td>\n",
       "      <td>14834</td>\n",
       "    </tr>\n",
       "    <tr>\n",
       "      <th>10</th>\n",
       "      <td>2021-11</td>\n",
       "      <td>November</td>\n",
       "      <td>15473</td>\n",
       "    </tr>\n",
       "    <tr>\n",
       "      <th>11</th>\n",
       "      <td>2021-12</td>\n",
       "      <td>December</td>\n",
       "      <td>13709</td>\n",
       "    </tr>\n",
       "    <tr>\n",
       "      <th>12</th>\n",
       "      <td>2022-01</td>\n",
       "      <td>January</td>\n",
       "      <td>9967</td>\n",
       "    </tr>\n",
       "    <tr>\n",
       "      <th>13</th>\n",
       "      <td>2022-02</td>\n",
       "      <td>February</td>\n",
       "      <td>10935</td>\n",
       "    </tr>\n",
       "    <tr>\n",
       "      <th>14</th>\n",
       "      <td>2022-03</td>\n",
       "      <td>March</td>\n",
       "      <td>12341</td>\n",
       "    </tr>\n",
       "    <tr>\n",
       "      <th>15</th>\n",
       "      <td>2022-04</td>\n",
       "      <td>April</td>\n",
       "      <td>11510</td>\n",
       "    </tr>\n",
       "    <tr>\n",
       "      <th>16</th>\n",
       "      <td>2022-05</td>\n",
       "      <td>May</td>\n",
       "      <td>12372</td>\n",
       "    </tr>\n",
       "    <tr>\n",
       "      <th>17</th>\n",
       "      <td>2022-06</td>\n",
       "      <td>June</td>\n",
       "      <td>12812</td>\n",
       "    </tr>\n",
       "    <tr>\n",
       "      <th>18</th>\n",
       "      <td>2022-07</td>\n",
       "      <td>July</td>\n",
       "      <td>12653</td>\n",
       "    </tr>\n",
       "    <tr>\n",
       "      <th>19</th>\n",
       "      <td>2022-08</td>\n",
       "      <td>August</td>\n",
       "      <td>12088</td>\n",
       "    </tr>\n",
       "    <tr>\n",
       "      <th>20</th>\n",
       "      <td>2022-09</td>\n",
       "      <td>September</td>\n",
       "      <td>12960</td>\n",
       "    </tr>\n",
       "    <tr>\n",
       "      <th>21</th>\n",
       "      <td>2022-10</td>\n",
       "      <td>October</td>\n",
       "      <td>13534</td>\n",
       "    </tr>\n",
       "    <tr>\n",
       "      <th>22</th>\n",
       "      <td>2022-11</td>\n",
       "      <td>November</td>\n",
       "      <td>13622</td>\n",
       "    </tr>\n",
       "    <tr>\n",
       "      <th>23</th>\n",
       "      <td>2022-12</td>\n",
       "      <td>December</td>\n",
       "      <td>9625</td>\n",
       "    </tr>\n",
       "  </tbody>\n",
       "</table>\n",
       "</div>"
      ],
      "text/plain": [
       "   Accident Month Month Name  Number_of_Casualties\n",
       "0         2021-01    January                 13417\n",
       "1         2021-02   February                 10950\n",
       "2         2021-03      March                 13202\n",
       "3         2021-04      April                 12715\n",
       "4         2021-05        May                 13811\n",
       "5         2021-06       June                 13936\n",
       "6         2021-07       July                 14300\n",
       "7         2021-08     August                 13415\n",
       "8         2021-09  September                 13792\n",
       "9         2021-10    October                 14834\n",
       "10        2021-11   November                 15473\n",
       "11        2021-12   December                 13709\n",
       "12        2022-01    January                  9967\n",
       "13        2022-02   February                 10935\n",
       "14        2022-03      March                 12341\n",
       "15        2022-04      April                 11510\n",
       "16        2022-05        May                 12372\n",
       "17        2022-06       June                 12812\n",
       "18        2022-07       July                 12653\n",
       "19        2022-08     August                 12088\n",
       "20        2022-09  September                 12960\n",
       "21        2022-10    October                 13534\n",
       "22        2022-11   November                 13622\n",
       "23        2022-12   December                  9625"
      ]
     },
     "execution_count": 4,
     "metadata": {},
     "output_type": "execute_result"
    }
   ],
   "source": [
    "# Group by month and count the number of casualties\n",
    "monthly_data = data.groupby(['Month Name', data['Accident Date'].dt.to_period(freq='M')]).agg({'Number_of_Casualties': 'count'}).reset_index()\n",
    "monthly_data = monthly_data.rename(columns={'Accident Date':'Accident Month'})\n",
    "print(\"Monthly Data:\")\n",
    "monthly_data = monthly_data.sort_values(by='Accident Month').set_index('Accident Month')\n",
    "monthly_data.reset_index()"
   ]
  },
  {
   "cell_type": "code",
   "execution_count": 5,
   "metadata": {},
   "outputs": [
    {
     "data": {
      "text/html": [
       "<div>\n",
       "<style scoped>\n",
       "    .dataframe tbody tr th:only-of-type {\n",
       "        vertical-align: middle;\n",
       "    }\n",
       "\n",
       "    .dataframe tbody tr th {\n",
       "        vertical-align: top;\n",
       "    }\n",
       "\n",
       "    .dataframe thead th {\n",
       "        text-align: right;\n",
       "    }\n",
       "</style>\n",
       "<table border=\"1\" class=\"dataframe\">\n",
       "  <thead>\n",
       "    <tr style=\"text-align: right;\">\n",
       "      <th></th>\n",
       "      <th>Month Name</th>\n",
       "      <th>Number_of_Casualties</th>\n",
       "      <th>Percentage_change</th>\n",
       "    </tr>\n",
       "    <tr>\n",
       "      <th>Accident Month</th>\n",
       "      <th></th>\n",
       "      <th></th>\n",
       "      <th></th>\n",
       "    </tr>\n",
       "  </thead>\n",
       "  <tbody>\n",
       "    <tr>\n",
       "      <th>2021-01</th>\n",
       "      <td>January</td>\n",
       "      <td>13417</td>\n",
       "      <td>No Record</td>\n",
       "    </tr>\n",
       "    <tr>\n",
       "      <th>2021-02</th>\n",
       "      <td>February</td>\n",
       "      <td>10950</td>\n",
       "      <td>-18.39%</td>\n",
       "    </tr>\n",
       "    <tr>\n",
       "      <th>2021-03</th>\n",
       "      <td>March</td>\n",
       "      <td>13202</td>\n",
       "      <td>20.57%</td>\n",
       "    </tr>\n",
       "    <tr>\n",
       "      <th>2021-04</th>\n",
       "      <td>April</td>\n",
       "      <td>12715</td>\n",
       "      <td>-3.69%</td>\n",
       "    </tr>\n",
       "    <tr>\n",
       "      <th>2021-05</th>\n",
       "      <td>May</td>\n",
       "      <td>13811</td>\n",
       "      <td>8.62%</td>\n",
       "    </tr>\n",
       "    <tr>\n",
       "      <th>2021-06</th>\n",
       "      <td>June</td>\n",
       "      <td>13936</td>\n",
       "      <td>0.91%</td>\n",
       "    </tr>\n",
       "    <tr>\n",
       "      <th>2021-07</th>\n",
       "      <td>July</td>\n",
       "      <td>14300</td>\n",
       "      <td>2.61%</td>\n",
       "    </tr>\n",
       "    <tr>\n",
       "      <th>2021-08</th>\n",
       "      <td>August</td>\n",
       "      <td>13415</td>\n",
       "      <td>-6.19%</td>\n",
       "    </tr>\n",
       "    <tr>\n",
       "      <th>2021-09</th>\n",
       "      <td>September</td>\n",
       "      <td>13792</td>\n",
       "      <td>2.81%</td>\n",
       "    </tr>\n",
       "    <tr>\n",
       "      <th>2021-10</th>\n",
       "      <td>October</td>\n",
       "      <td>14834</td>\n",
       "      <td>7.56%</td>\n",
       "    </tr>\n",
       "    <tr>\n",
       "      <th>2021-11</th>\n",
       "      <td>November</td>\n",
       "      <td>15473</td>\n",
       "      <td>4.31%</td>\n",
       "    </tr>\n",
       "    <tr>\n",
       "      <th>2021-12</th>\n",
       "      <td>December</td>\n",
       "      <td>13709</td>\n",
       "      <td>-11.40%</td>\n",
       "    </tr>\n",
       "    <tr>\n",
       "      <th>2022-01</th>\n",
       "      <td>January</td>\n",
       "      <td>9967</td>\n",
       "      <td>-27.30%</td>\n",
       "    </tr>\n",
       "    <tr>\n",
       "      <th>2022-02</th>\n",
       "      <td>February</td>\n",
       "      <td>10935</td>\n",
       "      <td>9.71%</td>\n",
       "    </tr>\n",
       "    <tr>\n",
       "      <th>2022-03</th>\n",
       "      <td>March</td>\n",
       "      <td>12341</td>\n",
       "      <td>12.86%</td>\n",
       "    </tr>\n",
       "    <tr>\n",
       "      <th>2022-04</th>\n",
       "      <td>April</td>\n",
       "      <td>11510</td>\n",
       "      <td>-6.73%</td>\n",
       "    </tr>\n",
       "    <tr>\n",
       "      <th>2022-05</th>\n",
       "      <td>May</td>\n",
       "      <td>12372</td>\n",
       "      <td>7.49%</td>\n",
       "    </tr>\n",
       "    <tr>\n",
       "      <th>2022-06</th>\n",
       "      <td>June</td>\n",
       "      <td>12812</td>\n",
       "      <td>3.56%</td>\n",
       "    </tr>\n",
       "    <tr>\n",
       "      <th>2022-07</th>\n",
       "      <td>July</td>\n",
       "      <td>12653</td>\n",
       "      <td>-1.24%</td>\n",
       "    </tr>\n",
       "    <tr>\n",
       "      <th>2022-08</th>\n",
       "      <td>August</td>\n",
       "      <td>12088</td>\n",
       "      <td>-4.47%</td>\n",
       "    </tr>\n",
       "    <tr>\n",
       "      <th>2022-09</th>\n",
       "      <td>September</td>\n",
       "      <td>12960</td>\n",
       "      <td>7.21%</td>\n",
       "    </tr>\n",
       "    <tr>\n",
       "      <th>2022-10</th>\n",
       "      <td>October</td>\n",
       "      <td>13534</td>\n",
       "      <td>4.43%</td>\n",
       "    </tr>\n",
       "    <tr>\n",
       "      <th>2022-11</th>\n",
       "      <td>November</td>\n",
       "      <td>13622</td>\n",
       "      <td>0.65%</td>\n",
       "    </tr>\n",
       "    <tr>\n",
       "      <th>2022-12</th>\n",
       "      <td>December</td>\n",
       "      <td>9625</td>\n",
       "      <td>-29.34%</td>\n",
       "    </tr>\n",
       "  </tbody>\n",
       "</table>\n",
       "</div>"
      ],
      "text/plain": [
       "               Month Name  Number_of_Casualties Percentage_change\n",
       "Accident Month                                                   \n",
       "2021-01           January                 13417         No Record\n",
       "2021-02          February                 10950           -18.39%\n",
       "2021-03             March                 13202            20.57%\n",
       "2021-04             April                 12715            -3.69%\n",
       "2021-05               May                 13811             8.62%\n",
       "2021-06              June                 13936             0.91%\n",
       "2021-07              July                 14300             2.61%\n",
       "2021-08            August                 13415            -6.19%\n",
       "2021-09         September                 13792             2.81%\n",
       "2021-10           October                 14834             7.56%\n",
       "2021-11          November                 15473             4.31%\n",
       "2021-12          December                 13709           -11.40%\n",
       "2022-01           January                  9967           -27.30%\n",
       "2022-02          February                 10935             9.71%\n",
       "2022-03             March                 12341            12.86%\n",
       "2022-04             April                 11510            -6.73%\n",
       "2022-05               May                 12372             7.49%\n",
       "2022-06              June                 12812             3.56%\n",
       "2022-07              July                 12653            -1.24%\n",
       "2022-08            August                 12088            -4.47%\n",
       "2022-09         September                 12960             7.21%\n",
       "2022-10           October                 13534             4.43%\n",
       "2022-11          November                 13622             0.65%\n",
       "2022-12          December                  9625           -29.34%"
      ]
     },
     "execution_count": 5,
     "metadata": {},
     "output_type": "execute_result"
    }
   ],
   "source": [
    "monthly_data['Percentage_change'] = (monthly_data['Number_of_Casualties'].pct_change() *100).round(2).apply(lambda x:f'{x:.2f}%')\n",
    "monthly_data['Percentage_change']=monthly_data['Percentage_change'].replace('nan%','No Record')\n",
    "monthly_data"
   ]
  },
  {
   "cell_type": "code",
   "execution_count": 10,
   "metadata": {},
   "outputs": [
    {
     "name": "stdout",
     "output_type": "stream",
     "text": [
      "Quarter Data:\n"
     ]
    },
    {
     "data": {
      "text/html": [
       "<div>\n",
       "<style scoped>\n",
       "    .dataframe tbody tr th:only-of-type {\n",
       "        vertical-align: middle;\n",
       "    }\n",
       "\n",
       "    .dataframe tbody tr th {\n",
       "        vertical-align: top;\n",
       "    }\n",
       "\n",
       "    .dataframe thead th {\n",
       "        text-align: right;\n",
       "    }\n",
       "</style>\n",
       "<table border=\"1\" class=\"dataframe\">\n",
       "  <thead>\n",
       "    <tr style=\"text-align: right;\">\n",
       "      <th></th>\n",
       "      <th>Quarters</th>\n",
       "      <th>Number_of_Casualties</th>\n",
       "    </tr>\n",
       "  </thead>\n",
       "  <tbody>\n",
       "    <tr>\n",
       "      <th>0</th>\n",
       "      <td>2021Q1</td>\n",
       "      <td>50633</td>\n",
       "    </tr>\n",
       "    <tr>\n",
       "      <th>1</th>\n",
       "      <td>2021Q2</td>\n",
       "      <td>54915</td>\n",
       "    </tr>\n",
       "    <tr>\n",
       "      <th>2</th>\n",
       "      <td>2021Q3</td>\n",
       "      <td>56935</td>\n",
       "    </tr>\n",
       "    <tr>\n",
       "      <th>3</th>\n",
       "      <td>2021Q4</td>\n",
       "      <td>59660</td>\n",
       "    </tr>\n",
       "    <tr>\n",
       "      <th>4</th>\n",
       "      <td>2022Q1</td>\n",
       "      <td>44542</td>\n",
       "    </tr>\n",
       "    <tr>\n",
       "      <th>5</th>\n",
       "      <td>2022Q2</td>\n",
       "      <td>49772</td>\n",
       "    </tr>\n",
       "    <tr>\n",
       "      <th>6</th>\n",
       "      <td>2022Q3</td>\n",
       "      <td>51497</td>\n",
       "    </tr>\n",
       "    <tr>\n",
       "      <th>7</th>\n",
       "      <td>2022Q4</td>\n",
       "      <td>49926</td>\n",
       "    </tr>\n",
       "  </tbody>\n",
       "</table>\n",
       "</div>"
      ],
      "text/plain": [
       "  Quarters  Number_of_Casualties\n",
       "0   2021Q1                 50633\n",
       "1   2021Q2                 54915\n",
       "2   2021Q3                 56935\n",
       "3   2021Q4                 59660\n",
       "4   2022Q1                 44542\n",
       "5   2022Q2                 49772\n",
       "6   2022Q3                 51497\n",
       "7   2022Q4                 49926"
      ]
     },
     "execution_count": 10,
     "metadata": {},
     "output_type": "execute_result"
    }
   ],
   "source": [
    "# Group by Quarter and count the number of casualties\n",
    "Quarter_data = data.groupby([data['Accident Date'].dt.to_period(freq='Q')]).agg({'Number_of_Casualties': 'sum'}).reset_index()\n",
    "Quarter_data = Quarter_data.rename(columns={'Accident Date':'Quarters'})\n",
    "Quarter_data['Quarters'] = Quarter_data['Quarters'].astype(str)\n",
    "print(\"Quarter Data:\")\n",
    "Quarter_data"
   ]
  },
  {
   "cell_type": "code",
   "execution_count": 230,
   "metadata": {},
   "outputs": [
    {
     "data": {
      "image/png": "[encoded data removed]",
      "text/plain": [
       "<Figure size 1000x600 with 1 Axes>"
      ]
     },
     "metadata": {},
     "output_type": "display_data"
    }
   ],
   "source": [
    "plt.figure(figsize=(10, 6))\n",
    "plt.plot(Quarter_data['Quarters'], Quarter_data['Number_of_Casualties'], marker='o', color='blue', linestyle='-')\n",
    "for i, value in enumerate(Quarter_data['Number_of_Casualties']):\n",
    "    plt.text(Quarter_data['Quarters'][i], value, str(value), ha='center', va='bottom', fontsize=10, color='black',style = 'normal',weight= 'bold')\n",
    "plt.title('Number of Casualties over Quarters')\n",
    "plt.xlabel('Quarters')\n",
    "plt.ylabel('Number of Casualties')\n",
    "plt.yticks([])\n",
    "plt.grid(True)\n",
    "plt.show()"
   ]
  },
  {
   "cell_type": "code",
   "execution_count": null,
   "metadata": {},
   "outputs": [
    {
     "data": {
      "text/html": [
       "<div>\n",
       "<style scoped>\n",
       "    .dataframe tbody tr th:only-of-type {\n",
       "        vertical-align: middle;\n",
       "    }\n",
       "\n",
       "    .dataframe tbody tr th {\n",
       "        vertical-align: top;\n",
       "    }\n",
       "\n",
       "    .dataframe thead th {\n",
       "        text-align: right;\n",
       "    }\n",
       "</style>\n",
       "<table border=\"1\" class=\"dataframe\">\n",
       "  <thead>\n",
       "    <tr style=\"text-align: right;\">\n",
       "      <th></th>\n",
       "      <th>Quarters</th>\n",
       "      <th>Number_of_Casualties</th>\n",
       "      <th>Percentage Change</th>\n",
       "    </tr>\n",
       "  </thead>\n",
       "  <tbody>\n",
       "    <tr>\n",
       "      <th>0</th>\n",
       "      <td>2021Q1</td>\n",
       "      <td>37569</td>\n",
       "      <td>No Record</td>\n",
       "    </tr>\n",
       "    <tr>\n",
       "      <th>1</th>\n",
       "      <td>2021Q2</td>\n",
       "      <td>40462</td>\n",
       "      <td>7.70%</td>\n",
       "    </tr>\n",
       "    <tr>\n",
       "      <th>2</th>\n",
       "      <td>2021Q3</td>\n",
       "      <td>41507</td>\n",
       "      <td>2.58%</td>\n",
       "    </tr>\n",
       "    <tr>\n",
       "      <th>3</th>\n",
       "      <td>2021Q4</td>\n",
       "      <td>44016</td>\n",
       "      <td>6.04%</td>\n",
       "    </tr>\n",
       "    <tr>\n",
       "      <th>4</th>\n",
       "      <td>2022Q1</td>\n",
       "      <td>33243</td>\n",
       "      <td>-24.48%</td>\n",
       "    </tr>\n",
       "    <tr>\n",
       "      <th>5</th>\n",
       "      <td>2022Q2</td>\n",
       "      <td>36694</td>\n",
       "      <td>10.38%</td>\n",
       "    </tr>\n",
       "    <tr>\n",
       "      <th>6</th>\n",
       "      <td>2022Q3</td>\n",
       "      <td>37701</td>\n",
       "      <td>2.74%</td>\n",
       "    </tr>\n",
       "    <tr>\n",
       "      <th>7</th>\n",
       "      <td>2022Q4</td>\n",
       "      <td>36781</td>\n",
       "      <td>-2.44%</td>\n",
       "    </tr>\n",
       "  </tbody>\n",
       "</table>\n",
       "</div>"
      ],
      "text/plain": [
       "  Quarters  Number_of_Casualties Percentage Change\n",
       "0   2021Q1                 37569         No Record\n",
       "1   2021Q2                 40462             7.70%\n",
       "2   2021Q3                 41507             2.58%\n",
       "3   2021Q4                 44016             6.04%\n",
       "4   2022Q1                 33243           -24.48%\n",
       "5   2022Q2                 36694            10.38%\n",
       "6   2022Q3                 37701             2.74%\n",
       "7   2022Q4                 36781            -2.44%"
      ]
     },
     "execution_count": 17,
     "metadata": {},
     "output_type": "execute_result"
    }
   ],
   "source": [
    "Quarter_data['Percentage Change'] = (Quarter_data['Number_of_Casualties'].pct_change()*100).round(2).apply(lambda x:f'{x:.2f}%').replace('nan%','No Record')\n",
    "Quarter_data"
   ]
  },
  {
   "cell_type": "code",
   "execution_count": null,
   "metadata": {},
   "outputs": [
    {
     "data": {
      "text/plain": [
       "Light_Conditions\n",
       "Daylight    227286\n",
       "Darkness     80687\n",
       "Name: count, dtype: int64"
      ]
     },
     "execution_count": 18,
     "metadata": {},
     "output_type": "execute_result"
    }
   ],
   "source": [
    "data['Light_Conditions'].value_counts()"
   ]
  },
  {
   "cell_type": "code",
   "execution_count": null,
   "metadata": {},
   "outputs": [
    {
     "name": "stdout",
     "output_type": "stream",
     "text": [
      "Top 10 Districts with Maximum number of Accidents\n"
     ]
    },
    {
     "data": {
      "text/html": [
       "<div>\n",
       "<style scoped>\n",
       "    .dataframe tbody tr th:only-of-type {\n",
       "        vertical-align: middle;\n",
       "    }\n",
       "\n",
       "    .dataframe tbody tr th {\n",
       "        vertical-align: top;\n",
       "    }\n",
       "\n",
       "    .dataframe thead th {\n",
       "        text-align: right;\n",
       "    }\n",
       "</style>\n",
       "<table border=\"1\" class=\"dataframe\">\n",
       "  <thead>\n",
       "    <tr style=\"text-align: right;\">\n",
       "      <th></th>\n",
       "      <th>Local_Authority_(District)</th>\n",
       "      <th>Total Accidents</th>\n",
       "    </tr>\n",
       "  </thead>\n",
       "  <tbody>\n",
       "    <tr>\n",
       "      <th>0</th>\n",
       "      <td>Birmingham</td>\n",
       "      <td>6165</td>\n",
       "    </tr>\n",
       "    <tr>\n",
       "      <th>1</th>\n",
       "      <td>Leeds</td>\n",
       "      <td>4140</td>\n",
       "    </tr>\n",
       "    <tr>\n",
       "      <th>2</th>\n",
       "      <td>Manchester</td>\n",
       "      <td>3132</td>\n",
       "    </tr>\n",
       "    <tr>\n",
       "      <th>3</th>\n",
       "      <td>Bradford</td>\n",
       "      <td>3006</td>\n",
       "    </tr>\n",
       "    <tr>\n",
       "      <th>4</th>\n",
       "      <td>Westminster</td>\n",
       "      <td>2811</td>\n",
       "    </tr>\n",
       "    <tr>\n",
       "      <th>5</th>\n",
       "      <td>Sheffield</td>\n",
       "      <td>2750</td>\n",
       "    </tr>\n",
       "    <tr>\n",
       "      <th>6</th>\n",
       "      <td>Liverpool</td>\n",
       "      <td>2611</td>\n",
       "    </tr>\n",
       "    <tr>\n",
       "      <th>7</th>\n",
       "      <td>Cornwall</td>\n",
       "      <td>2606</td>\n",
       "    </tr>\n",
       "    <tr>\n",
       "      <th>8</th>\n",
       "      <td>Barnet</td>\n",
       "      <td>2302</td>\n",
       "    </tr>\n",
       "    <tr>\n",
       "      <th>9</th>\n",
       "      <td>Bristol, City of</td>\n",
       "      <td>2270</td>\n",
       "    </tr>\n",
       "  </tbody>\n",
       "</table>\n",
       "</div>"
      ],
      "text/plain": [
       "  Local_Authority_(District)  Total Accidents\n",
       "0                 Birmingham             6165\n",
       "1                      Leeds             4140\n",
       "2                 Manchester             3132\n",
       "3                   Bradford             3006\n",
       "4                Westminster             2811\n",
       "5                  Sheffield             2750\n",
       "6                  Liverpool             2611\n",
       "7                   Cornwall             2606\n",
       "8                     Barnet             2302\n",
       "9           Bristol, City of             2270"
      ]
     },
     "execution_count": 19,
     "metadata": {},
     "output_type": "execute_result"
    }
   ],
   "source": [
    "# Location and region with higher incidence of accidents\n",
    "data.columns\n",
    "Location = data.groupby(data['Local_Authority_(District)']).agg({'Accident_Index':'count'}).sort_values(by = 'Accident_Index',ascending = False).head(10)\n",
    "print(\"Top 10 Districts with Maximum number of Accidents\")\n",
    "Location.rename(columns={'Accident_Index':\"Total Accidents\"}).reset_index()\n",
    "\n",
    "\n"
   ]
  },
  {
   "cell_type": "code",
   "execution_count": null,
   "metadata": {},
   "outputs": [
    {
     "name": "stdout",
     "output_type": "stream",
     "text": [
      "Pivot Table representing the Number of Accidents happen in specific Junction type and Road Surface Condition\n"
     ]
    },
    {
     "data": {
      "text/html": [
       "<div>\n",
       "<style scoped>\n",
       "    .dataframe tbody tr th:only-of-type {\n",
       "        vertical-align: middle;\n",
       "    }\n",
       "\n",
       "    .dataframe tbody tr th {\n",
       "        vertical-align: top;\n",
       "    }\n",
       "\n",
       "    .dataframe thead th {\n",
       "        text-align: right;\n",
       "    }\n",
       "</style>\n",
       "<table border=\"1\" class=\"dataframe\">\n",
       "  <thead>\n",
       "    <tr style=\"text-align: right;\">\n",
       "      <th>Road_Surface_Conditions</th>\n",
       "      <th>Damp</th>\n",
       "      <th>Dry</th>\n",
       "      <th>Frosty</th>\n",
       "      <th>Other</th>\n",
       "      <th>Snowy</th>\n",
       "      <th>Wet</th>\n",
       "    </tr>\n",
       "    <tr>\n",
       "      <th>Junction_Detail</th>\n",
       "      <th></th>\n",
       "      <th></th>\n",
       "      <th></th>\n",
       "      <th></th>\n",
       "      <th></th>\n",
       "      <th></th>\n",
       "    </tr>\n",
       "  </thead>\n",
       "  <tbody>\n",
       "    <tr>\n",
       "      <th>Crossroads</th>\n",
       "      <td>9</td>\n",
       "      <td>21263</td>\n",
       "      <td>633</td>\n",
       "      <td>15</td>\n",
       "      <td>294</td>\n",
       "      <td>7734</td>\n",
       "    </tr>\n",
       "    <tr>\n",
       "      <th>Mini-roundabout</th>\n",
       "      <td>0</td>\n",
       "      <td>2273</td>\n",
       "      <td>99</td>\n",
       "      <td>2</td>\n",
       "      <td>49</td>\n",
       "      <td>923</td>\n",
       "    </tr>\n",
       "    <tr>\n",
       "      <th>More than 4 arms (not roundabout)</th>\n",
       "      <td>0</td>\n",
       "      <td>2929</td>\n",
       "      <td>90</td>\n",
       "      <td>4</td>\n",
       "      <td>40</td>\n",
       "      <td>1085</td>\n",
       "    </tr>\n",
       "    <tr>\n",
       "      <th>Not at junction or within 20 metres</th>\n",
       "      <td>293</td>\n",
       "      <td>78508</td>\n",
       "      <td>7307</td>\n",
       "      <td>116</td>\n",
       "      <td>2617</td>\n",
       "      <td>34253</td>\n",
       "    </tr>\n",
       "    <tr>\n",
       "      <th>Other junction</th>\n",
       "      <td>5</td>\n",
       "      <td>5647</td>\n",
       "      <td>291</td>\n",
       "      <td>6</td>\n",
       "      <td>115</td>\n",
       "      <td>2251</td>\n",
       "    </tr>\n",
       "    <tr>\n",
       "      <th>Private drive or entrance</th>\n",
       "      <td>7</td>\n",
       "      <td>7859</td>\n",
       "      <td>200</td>\n",
       "      <td>20</td>\n",
       "      <td>95</td>\n",
       "      <td>2694</td>\n",
       "    </tr>\n",
       "    <tr>\n",
       "      <th>Roundabout</th>\n",
       "      <td>9</td>\n",
       "      <td>19232</td>\n",
       "      <td>642</td>\n",
       "      <td>37</td>\n",
       "      <td>258</td>\n",
       "      <td>7086</td>\n",
       "    </tr>\n",
       "    <tr>\n",
       "      <th>Slip road</th>\n",
       "      <td>12</td>\n",
       "      <td>2767</td>\n",
       "      <td>170</td>\n",
       "      <td>1</td>\n",
       "      <td>80</td>\n",
       "      <td>1235</td>\n",
       "    </tr>\n",
       "    <tr>\n",
       "      <th>T or staggered junction</th>\n",
       "      <td>39</td>\n",
       "      <td>68488</td>\n",
       "      <td>2646</td>\n",
       "      <td>116</td>\n",
       "      <td>1210</td>\n",
       "      <td>24218</td>\n",
       "    </tr>\n",
       "  </tbody>\n",
       "</table>\n",
       "</div>"
      ],
      "text/plain": [
       "Road_Surface_Conditions              Damp    Dry  Frosty  Other  Snowy    Wet\n",
       "Junction_Detail                                                              \n",
       "Crossroads                              9  21263     633     15    294   7734\n",
       "Mini-roundabout                         0   2273      99      2     49    923\n",
       "More than 4 arms (not roundabout)       0   2929      90      4     40   1085\n",
       "Not at junction or within 20 metres   293  78508    7307    116   2617  34253\n",
       "Other junction                          5   5647     291      6    115   2251\n",
       "Private drive or entrance               7   7859     200     20     95   2694\n",
       "Roundabout                              9  19232     642     37    258   7086\n",
       "Slip road                              12   2767     170      1     80   1235\n",
       "T or staggered junction                39  68488    2646    116   1210  24218"
      ]
     },
     "execution_count": 20,
     "metadata": {},
     "output_type": "execute_result"
    }
   ],
   "source": [
    "# Specific junction types or road conditions associate with high number of accidents\n",
    "junction_road_accidents = data[['Junction_Detail','Road_Surface_Conditions','Accident_Index']]\n",
    "jra_pivot = pd.pivot_table(junction_road_accidents,index='Junction_Detail',columns='Road_Surface_Conditions',values='Accident_Index',fill_value=0,aggfunc='count')\n",
    "print(\"Pivot Table representing the Number of Accidents happen in specific Junction type and Road Surface Condition\")\n",
    "jra_pivot"
   ]
  },
  {
   "cell_type": "code",
   "execution_count": null,
   "metadata": {
    "scrolled": true
   },
   "outputs": [
    {
     "data": {
      "text/plain": [
       "Junction_Control\n",
       "Give way or uncontrolled               150045\n",
       "Data missing or out of range            98056\n",
       "Auto traffic signal                     32349\n",
       "Not at junction or within 20 metres     25378\n",
       "Stop sign                                1685\n",
       "Authorised person                         460\n",
       "Name: count, dtype: int64"
      ]
     },
     "execution_count": 26,
     "metadata": {},
     "output_type": "execute_result"
    }
   ],
   "source": [
    "# Investigate the 'Junction Detail' and 'Junction Control' columns to understand the role of the junctions in the accidents.\n",
    "data['Junction_Control'].value_counts()\n"
   ]
  },
  {
   "cell_type": "code",
   "execution_count": null,
   "metadata": {},
   "outputs": [
    {
     "data": {
      "text/plain": [
       "Junction_Detail\n",
       "Not at junction or within 20 metres    123094\n",
       "T or staggered junction                 96718\n",
       "Crossroads                              29948\n",
       "Roundabout                              27264\n",
       "Private drive or entrance               10875\n",
       "Other junction                           8315\n",
       "Slip road                                4265\n",
       "More than 4 arms (not roundabout)        4148\n",
       "Mini-roundabout                          3346\n",
       "Name: count, dtype: int64"
      ]
     },
     "execution_count": 24,
     "metadata": {},
     "output_type": "execute_result"
    }
   ],
   "source": [
    "data['Junction_Detail'].value_counts()"
   ]
  },
  {
   "cell_type": "code",
   "execution_count": null,
   "metadata": {},
   "outputs": [
    {
     "data": {
      "text/html": [
       "<div>\n",
       "<style scoped>\n",
       "    .dataframe tbody tr th:only-of-type {\n",
       "        vertical-align: middle;\n",
       "    }\n",
       "\n",
       "    .dataframe tbody tr th {\n",
       "        vertical-align: top;\n",
       "    }\n",
       "\n",
       "    .dataframe thead th {\n",
       "        text-align: right;\n",
       "    }\n",
       "</style>\n",
       "<table border=\"1\" class=\"dataframe\">\n",
       "  <thead>\n",
       "    <tr style=\"text-align: right;\">\n",
       "      <th>Junction_Control</th>\n",
       "      <th>Authorised person</th>\n",
       "      <th>Auto traffic signal</th>\n",
       "      <th>Data missing or out of range</th>\n",
       "      <th>Give way or uncontrolled</th>\n",
       "      <th>Not at junction or within 20 metres</th>\n",
       "      <th>Stop sign</th>\n",
       "    </tr>\n",
       "    <tr>\n",
       "      <th>Junction_Detail</th>\n",
       "      <th></th>\n",
       "      <th></th>\n",
       "      <th></th>\n",
       "      <th></th>\n",
       "      <th></th>\n",
       "      <th></th>\n",
       "    </tr>\n",
       "  </thead>\n",
       "  <tbody>\n",
       "    <tr>\n",
       "      <th>Crossroads</th>\n",
       "      <td>56</td>\n",
       "      <td>15123</td>\n",
       "      <td>0</td>\n",
       "      <td>14224</td>\n",
       "      <td>0</td>\n",
       "      <td>544</td>\n",
       "    </tr>\n",
       "    <tr>\n",
       "      <th>Mini-roundabout</th>\n",
       "      <td>3</td>\n",
       "      <td>45</td>\n",
       "      <td>0</td>\n",
       "      <td>3287</td>\n",
       "      <td>0</td>\n",
       "      <td>11</td>\n",
       "    </tr>\n",
       "    <tr>\n",
       "      <th>More than 4 arms (not roundabout)</th>\n",
       "      <td>12</td>\n",
       "      <td>2414</td>\n",
       "      <td>0</td>\n",
       "      <td>1690</td>\n",
       "      <td>0</td>\n",
       "      <td>32</td>\n",
       "    </tr>\n",
       "    <tr>\n",
       "      <th>Not at junction or within 20 metres</th>\n",
       "      <td>1</td>\n",
       "      <td>4</td>\n",
       "      <td>97707</td>\n",
       "      <td>4</td>\n",
       "      <td>25378</td>\n",
       "      <td>0</td>\n",
       "    </tr>\n",
       "    <tr>\n",
       "      <th>Other junction</th>\n",
       "      <td>54</td>\n",
       "      <td>936</td>\n",
       "      <td>60</td>\n",
       "      <td>7181</td>\n",
       "      <td>0</td>\n",
       "      <td>84</td>\n",
       "    </tr>\n",
       "    <tr>\n",
       "      <th>Private drive or entrance</th>\n",
       "      <td>22</td>\n",
       "      <td>114</td>\n",
       "      <td>289</td>\n",
       "      <td>10428</td>\n",
       "      <td>0</td>\n",
       "      <td>22</td>\n",
       "    </tr>\n",
       "    <tr>\n",
       "      <th>Roundabout</th>\n",
       "      <td>87</td>\n",
       "      <td>3152</td>\n",
       "      <td>0</td>\n",
       "      <td>23919</td>\n",
       "      <td>0</td>\n",
       "      <td>106</td>\n",
       "    </tr>\n",
       "    <tr>\n",
       "      <th>Slip road</th>\n",
       "      <td>22</td>\n",
       "      <td>243</td>\n",
       "      <td>0</td>\n",
       "      <td>3979</td>\n",
       "      <td>0</td>\n",
       "      <td>21</td>\n",
       "    </tr>\n",
       "    <tr>\n",
       "      <th>T or staggered junction</th>\n",
       "      <td>203</td>\n",
       "      <td>10318</td>\n",
       "      <td>0</td>\n",
       "      <td>85331</td>\n",
       "      <td>0</td>\n",
       "      <td>865</td>\n",
       "    </tr>\n",
       "  </tbody>\n",
       "</table>\n",
       "</div>"
      ],
      "text/plain": [
       "Junction_Control                     Authorised person  Auto traffic signal  \\\n",
       "Junction_Detail                                                               \n",
       "Crossroads                                          56                15123   \n",
       "Mini-roundabout                                      3                   45   \n",
       "More than 4 arms (not roundabout)                   12                 2414   \n",
       "Not at junction or within 20 metres                  1                    4   \n",
       "Other junction                                      54                  936   \n",
       "Private drive or entrance                           22                  114   \n",
       "Roundabout                                          87                 3152   \n",
       "Slip road                                           22                  243   \n",
       "T or staggered junction                            203                10318   \n",
       "\n",
       "Junction_Control                     Data missing or out of range  \\\n",
       "Junction_Detail                                                     \n",
       "Crossroads                                                      0   \n",
       "Mini-roundabout                                                 0   \n",
       "More than 4 arms (not roundabout)                               0   \n",
       "Not at junction or within 20 metres                         97707   \n",
       "Other junction                                                 60   \n",
       "Private drive or entrance                                     289   \n",
       "Roundabout                                                      0   \n",
       "Slip road                                                       0   \n",
       "T or staggered junction                                         0   \n",
       "\n",
       "Junction_Control                     Give way or uncontrolled  \\\n",
       "Junction_Detail                                                 \n",
       "Crossroads                                              14224   \n",
       "Mini-roundabout                                          3287   \n",
       "More than 4 arms (not roundabout)                        1690   \n",
       "Not at junction or within 20 metres                         4   \n",
       "Other junction                                           7181   \n",
       "Private drive or entrance                               10428   \n",
       "Roundabout                                              23919   \n",
       "Slip road                                                3979   \n",
       "T or staggered junction                                 85331   \n",
       "\n",
       "Junction_Control                     Not at junction or within 20 metres  \\\n",
       "Junction_Detail                                                            \n",
       "Crossroads                                                             0   \n",
       "Mini-roundabout                                                        0   \n",
       "More than 4 arms (not roundabout)                                      0   \n",
       "Not at junction or within 20 metres                                25378   \n",
       "Other junction                                                         0   \n",
       "Private drive or entrance                                              0   \n",
       "Roundabout                                                             0   \n",
       "Slip road                                                              0   \n",
       "T or staggered junction                                                0   \n",
       "\n",
       "Junction_Control                     Stop sign  \n",
       "Junction_Detail                                 \n",
       "Crossroads                                 544  \n",
       "Mini-roundabout                             11  \n",
       "More than 4 arms (not roundabout)           32  \n",
       "Not at junction or within 20 metres          0  \n",
       "Other junction                              84  \n",
       "Private drive or entrance                   22  \n",
       "Roundabout                                 106  \n",
       "Slip road                                   21  \n",
       "T or staggered junction                    865  "
      ]
     },
     "execution_count": 28,
     "metadata": {},
     "output_type": "execute_result"
    }
   ],
   "source": [
    "junction = data[['Junction_Detail','Junction_Control','Accident_Index']]\n",
    "junction_pivot = pd.pivot_table(junction, values = 'Accident_Index', columns = 'Junction_Control',index='Junction_Detail',fill_value=0,aggfunc='count')\n",
    "junction_pivot"
   ]
  },
  {
   "cell_type": "markdown",
   "metadata": {},
   "source": [
    "# Key Conclusions from Pivot:\n",
    "\n",
    "## Crossroads:\n",
    "- For a Crossroads junction, Auto Traffic signal along with Give way or uncontrolled is a significant factor contributing to accidents.\n",
    "- The presence of an Authorized Person at Crossroads can be more effective in controlling traffic and reducing accidents.\n",
    "\n",
    "## Mini-roundabout:\n",
    "- Mini-roundabouts, circular junctions used to control traffic flow, generally work well in mitigating accidents.\n",
    "- However, accidents tend to be higher when following the 'Give way' principle.\n",
    "\n",
    "## More than 4 arms (not roundabout):\n",
    "- The majority of accidents at junctions with more than 4 arms (not roundabouts) occur in situations where vehicles need to give way or where the junction is uncontrolled.\n",
    "- Automated Traffic signals are present but may not effectively reduce accidents.\n",
    "\n",
    "## Not at junction or within 20 metres:\n",
    "- Significant data quality issues exist with a high count of accidents categorized as 'Data missing or out of range' (97707 accidents).\n",
    "- The majority of accidents in this category (25378 accidents) are not controlled by specific junction control measures.\n",
    "\n",
    "## Other Junction:\n",
    "- 'Other junctions' exhibit a mix of junction control measures, with a majority being 'Give way or uncontrolled' (7181 accidents).\n",
    "\n",
    "## Private drive or entrance:\n",
    "- The majority of accidents (10428 accidents) at 'Private drive or entrance' locations occur where vehicles need to give way or the junction is uncontrolled.\n",
    "- A significant number of accidents (289 accidents) involve automated traffic signals.\n",
    "\n",
    "## Roundabout:\n",
    "- The majority of accidents (23919 accidents) at roundabouts occur where vehicles need to give way or the roundabout is uncontrolled.\n",
    "- A significant number of accidents (3152 accidents) involve automated traffic signals.\n",
    "\n",
    "## Slip road:\n",
    "- Accidents at 'Slip roads' primarily occur in situations where vehicles need to give way or the slip road is uncontrolled (3979 accidents).\n",
    "- A small number of accidents (243 accidents) at slip roads involve automated traffic signals.\n",
    "\n",
    "## T or staggered junction:\n",
    "- Accidents at 'T or staggered junctions' are predominantly associated with situations where vehicles need to give way or the junction is uncontrolled, with a substantial count of 85331 accidents in this category. \n",
    "- A significant number of accidents (10318 accidents) at these junctions involve automated traffic signals."
   ]
  },
  {
   "cell_type": "markdown",
   "metadata": {},
   "source": [
    "## Weather and Road conditions:"
   ]
  },
  {
   "cell_type": "code",
   "execution_count": null,
   "metadata": {},
   "outputs": [
    {
     "data": {
      "text/html": [
       "<div>\n",
       "<style scoped>\n",
       "    .dataframe tbody tr th:only-of-type {\n",
       "        vertical-align: middle;\n",
       "    }\n",
       "\n",
       "    .dataframe tbody tr th {\n",
       "        vertical-align: top;\n",
       "    }\n",
       "\n",
       "    .dataframe thead th {\n",
       "        text-align: right;\n",
       "    }\n",
       "</style>\n",
       "<table border=\"1\" class=\"dataframe\">\n",
       "  <thead>\n",
       "    <tr style=\"text-align: right;\">\n",
       "      <th>Weather_Conditions</th>\n",
       "      <th>Clear</th>\n",
       "      <th>Foggy</th>\n",
       "      <th>Other</th>\n",
       "      <th>Raining</th>\n",
       "      <th>Snowy</th>\n",
       "    </tr>\n",
       "    <tr>\n",
       "      <th>Road_Surface_Conditions</th>\n",
       "      <th></th>\n",
       "      <th></th>\n",
       "      <th></th>\n",
       "      <th></th>\n",
       "      <th></th>\n",
       "    </tr>\n",
       "  </thead>\n",
       "  <tbody>\n",
       "    <tr>\n",
       "      <th>Damp</th>\n",
       "      <td>62</td>\n",
       "      <td>1</td>\n",
       "      <td>18</td>\n",
       "      <td>288</td>\n",
       "      <td>5</td>\n",
       "    </tr>\n",
       "    <tr>\n",
       "      <th>Dry</th>\n",
       "      <td>202634</td>\n",
       "      <td>179</td>\n",
       "      <td>5838</td>\n",
       "      <td>284</td>\n",
       "      <td>31</td>\n",
       "    </tr>\n",
       "    <tr>\n",
       "      <th>Frosty</th>\n",
       "      <td>6767</td>\n",
       "      <td>389</td>\n",
       "      <td>3290</td>\n",
       "      <td>296</td>\n",
       "      <td>1336</td>\n",
       "    </tr>\n",
       "    <tr>\n",
       "      <th>Other</th>\n",
       "      <td>43</td>\n",
       "      <td>1</td>\n",
       "      <td>273</td>\n",
       "      <td>0</td>\n",
       "      <td>0</td>\n",
       "    </tr>\n",
       "    <tr>\n",
       "      <th>Snowy</th>\n",
       "      <td>954</td>\n",
       "      <td>25</td>\n",
       "      <td>419</td>\n",
       "      <td>78</td>\n",
       "      <td>3282</td>\n",
       "    </tr>\n",
       "    <tr>\n",
       "      <th>Wet</th>\n",
       "      <td>37182</td>\n",
       "      <td>1095</td>\n",
       "      <td>5021</td>\n",
       "      <td>37457</td>\n",
       "      <td>723</td>\n",
       "    </tr>\n",
       "  </tbody>\n",
       "</table>\n",
       "</div>"
      ],
      "text/plain": [
       "Weather_Conditions        Clear  Foggy  Other  Raining  Snowy\n",
       "Road_Surface_Conditions                                      \n",
       "Damp                         62      1     18      288      5\n",
       "Dry                      202634    179   5838      284     31\n",
       "Frosty                     6767    389   3290      296   1336\n",
       "Other                        43      1    273        0      0\n",
       "Snowy                       954     25    419       78   3282\n",
       "Wet                       37182   1095   5021    37457    723"
      ]
     },
     "execution_count": 30,
     "metadata": {},
     "output_type": "execute_result"
    }
   ],
   "source": [
    "Road_Weather = data[['Road_Surface_Conditions','Weather_Conditions','Accident_Index']]\n",
    "Road_Weather_pivot = pd.pivot_table(Road_Weather,index='Road_Surface_Conditions',columns='Weather_Conditions',values='Accident_Index',aggfunc='count',fill_value=0)\n",
    "Road_Weather_pivot"
   ]
  },
  {
   "cell_type": "markdown",
   "metadata": {},
   "source": [
    "**Conclusion:**\n",
    "- Most accidents occur during dry conditions, with a significant number happening in clear weather.\n",
    "- Wet conditions lead to a notable increase in accidents, especially during raining conditions.\n",
    "- Frosty conditions contribute to a considerable number of accidents, with higher occurrences during clear weather.\n",
    "- Snowy conditions result in accidents, especially during clear and rainy weather.\n",
    "- Damp conditions contribute to accidents, primarily during clear and rainy weather.\n",
    "- Other weather and road surface conditions have lower accident frequencies, with varying patterns."
   ]
  }
 ],
 "metadata": {
  "kernelspec": {
   "display_name": "Python 3 (ipykernel)",
   "language": "python",
   "name": "python3"
  },
  "language_info": {
   "codemirror_mode": {
    "name": "ipython",
    "version": 3
   },
   "file_extension": ".py",
   "mimetype": "text/x-python",
   "name": "python",
   "nbconvert_exporter": "python",
   "pygments_lexer": "ipython3",
   "version": "3.11.5"
  }
 },
 "nbformat": 4,
 "nbformat_minor": 2
}

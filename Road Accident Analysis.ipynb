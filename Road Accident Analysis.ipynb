{
 "cells": [
  {
   "cell_type": "code",
   "execution_count": 3,
   "metadata": {},
   "outputs": [],
   "source": [
    "import numpy as np \n",
    "import pandas as pd\n",
    "import seaborn as sns\n",
    "import matplotlib.pyplot as plt"
   ]
  },
  {
   "cell_type": "code",
   "execution_count": 4,
   "metadata": {},
   "outputs": [],
   "source": [
    "# Load the data from the csv file:\n",
    "data = pd.read_csv(\"C:/Users/zeus/Desktop/Git Repositories/Road_Accidents/Road Accident Data.csv\")"
   ]
  },
  {
   "cell_type": "code",
   "execution_count": 5,
   "metadata": {},
   "outputs": [
    {
     "data": {
      "text/html": [
       "<div>\n",
       "<style scoped>\n",
       "    .dataframe tbody tr th:only-of-type {\n",
       "        vertical-align: middle;\n",
       "    }\n",
       "\n",
       "    .dataframe tbody tr th {\n",
       "        vertical-align: top;\n",
       "    }\n",
       "\n",
       "    .dataframe thead th {\n",
       "        text-align: right;\n",
       "    }\n",
       "</style>\n",
       "<table border=\"1\" class=\"dataframe\">\n",
       "  <thead>\n",
       "    <tr style=\"text-align: right;\">\n",
       "      <th></th>\n",
       "      <th>Accident_Index</th>\n",
       "      <th>Accident Date</th>\n",
       "      <th>Day_of_Week</th>\n",
       "      <th>Junction_Control</th>\n",
       "      <th>Junction_Detail</th>\n",
       "      <th>Accident_Severity</th>\n",
       "      <th>Latitude</th>\n",
       "      <th>Longitude</th>\n",
       "      <th>Light_Conditions</th>\n",
       "      <th>Local_Authority_(District)</th>\n",
       "      <th>...</th>\n",
       "      <th>Number_of_Casualties</th>\n",
       "      <th>Number_of_Vehicles</th>\n",
       "      <th>Police_Force</th>\n",
       "      <th>Road_Surface_Conditions</th>\n",
       "      <th>Road_Type</th>\n",
       "      <th>Speed_limit</th>\n",
       "      <th>Time</th>\n",
       "      <th>Urban_or_Rural_Area</th>\n",
       "      <th>Weather_Conditions</th>\n",
       "      <th>Vehicle_Type</th>\n",
       "    </tr>\n",
       "  </thead>\n",
       "  <tbody>\n",
       "    <tr>\n",
       "      <th>0</th>\n",
       "      <td>200901BS70001</td>\n",
       "      <td>01-01-2021</td>\n",
       "      <td>Thursday</td>\n",
       "      <td>Give way or uncontrolled</td>\n",
       "      <td>T or staggered junction</td>\n",
       "      <td>Serious</td>\n",
       "      <td>51.512273</td>\n",
       "      <td>-0.201349</td>\n",
       "      <td>Daylight</td>\n",
       "      <td>Kensington and Chelsea</td>\n",
       "      <td>...</td>\n",
       "      <td>1</td>\n",
       "      <td>2</td>\n",
       "      <td>Metropolitan Police</td>\n",
       "      <td>Dry</td>\n",
       "      <td>One way street</td>\n",
       "      <td>30</td>\n",
       "      <td>15:11</td>\n",
       "      <td>Urban</td>\n",
       "      <td>Clear</td>\n",
       "      <td>Cars</td>\n",
       "    </tr>\n",
       "    <tr>\n",
       "      <th>1</th>\n",
       "      <td>200901BS70002</td>\n",
       "      <td>05-01-2021</td>\n",
       "      <td>Monday</td>\n",
       "      <td>Give way or uncontrolled</td>\n",
       "      <td>Crossroads</td>\n",
       "      <td>Serious</td>\n",
       "      <td>51.514399</td>\n",
       "      <td>-0.199248</td>\n",
       "      <td>Daylight</td>\n",
       "      <td>Kensington and Chelsea</td>\n",
       "      <td>...</td>\n",
       "      <td>11</td>\n",
       "      <td>2</td>\n",
       "      <td>Metropolitan Police</td>\n",
       "      <td>Wet</td>\n",
       "      <td>Single carriageway</td>\n",
       "      <td>30</td>\n",
       "      <td>10:59</td>\n",
       "      <td>Urban</td>\n",
       "      <td>Clear</td>\n",
       "      <td>Cars</td>\n",
       "    </tr>\n",
       "    <tr>\n",
       "      <th>2</th>\n",
       "      <td>200901BS70003</td>\n",
       "      <td>04-01-2021</td>\n",
       "      <td>Sunday</td>\n",
       "      <td>Give way or uncontrolled</td>\n",
       "      <td>T or staggered junction</td>\n",
       "      <td>Minor</td>\n",
       "      <td>51.486668</td>\n",
       "      <td>-0.179599</td>\n",
       "      <td>Daylight</td>\n",
       "      <td>Kensington and Chelsea</td>\n",
       "      <td>...</td>\n",
       "      <td>1</td>\n",
       "      <td>2</td>\n",
       "      <td>Metropolitan Police</td>\n",
       "      <td>Dry</td>\n",
       "      <td>Single carriageway</td>\n",
       "      <td>30</td>\n",
       "      <td>14:19</td>\n",
       "      <td>Urban</td>\n",
       "      <td>Clear</td>\n",
       "      <td>Cars</td>\n",
       "    </tr>\n",
       "    <tr>\n",
       "      <th>3</th>\n",
       "      <td>200901BS70004</td>\n",
       "      <td>05-01-2021</td>\n",
       "      <td>Monday</td>\n",
       "      <td>Auto traffic signal</td>\n",
       "      <td>T or staggered junction</td>\n",
       "      <td>Serious</td>\n",
       "      <td>51.507804</td>\n",
       "      <td>-0.203110</td>\n",
       "      <td>Daylight</td>\n",
       "      <td>Kensington and Chelsea</td>\n",
       "      <td>...</td>\n",
       "      <td>1</td>\n",
       "      <td>2</td>\n",
       "      <td>Metropolitan Police</td>\n",
       "      <td>Frosty</td>\n",
       "      <td>Single carriageway</td>\n",
       "      <td>30</td>\n",
       "      <td>08:10</td>\n",
       "      <td>Urban</td>\n",
       "      <td>Other</td>\n",
       "      <td>Heavy Motorcycles</td>\n",
       "    </tr>\n",
       "    <tr>\n",
       "      <th>4</th>\n",
       "      <td>200901BS70005</td>\n",
       "      <td>06-01-2021</td>\n",
       "      <td>Tuesday</td>\n",
       "      <td>Auto traffic signal</td>\n",
       "      <td>Crossroads</td>\n",
       "      <td>Serious</td>\n",
       "      <td>51.482076</td>\n",
       "      <td>-0.173445</td>\n",
       "      <td>Darkness</td>\n",
       "      <td>Kensington and Chelsea</td>\n",
       "      <td>...</td>\n",
       "      <td>1</td>\n",
       "      <td>2</td>\n",
       "      <td>Metropolitan Police</td>\n",
       "      <td>Dry</td>\n",
       "      <td>Single carriageway</td>\n",
       "      <td>30</td>\n",
       "      <td>17:25</td>\n",
       "      <td>Urban</td>\n",
       "      <td>Clear</td>\n",
       "      <td>Cars</td>\n",
       "    </tr>\n",
       "    <tr>\n",
       "      <th>...</th>\n",
       "      <td>...</td>\n",
       "      <td>...</td>\n",
       "      <td>...</td>\n",
       "      <td>...</td>\n",
       "      <td>...</td>\n",
       "      <td>...</td>\n",
       "      <td>...</td>\n",
       "      <td>...</td>\n",
       "      <td>...</td>\n",
       "      <td>...</td>\n",
       "      <td>...</td>\n",
       "      <td>...</td>\n",
       "      <td>...</td>\n",
       "      <td>...</td>\n",
       "      <td>...</td>\n",
       "      <td>...</td>\n",
       "      <td>...</td>\n",
       "      <td>...</td>\n",
       "      <td>...</td>\n",
       "      <td>...</td>\n",
       "      <td>...</td>\n",
       "    </tr>\n",
       "    <tr>\n",
       "      <th>95</th>\n",
       "      <td>200901BS70122</td>\n",
       "      <td>04-03-2021</td>\n",
       "      <td>Wednesday</td>\n",
       "      <td>Auto traffic signal</td>\n",
       "      <td>T or staggered junction</td>\n",
       "      <td>Minor</td>\n",
       "      <td>51.486622</td>\n",
       "      <td>-0.170814</td>\n",
       "      <td>Daylight</td>\n",
       "      <td>Kensington and Chelsea</td>\n",
       "      <td>...</td>\n",
       "      <td>1</td>\n",
       "      <td>2</td>\n",
       "      <td>Metropolitan Police</td>\n",
       "      <td>Wet</td>\n",
       "      <td>Single carriageway</td>\n",
       "      <td>30</td>\n",
       "      <td>07:05</td>\n",
       "      <td>Urban</td>\n",
       "      <td>Clear</td>\n",
       "      <td>Cars</td>\n",
       "    </tr>\n",
       "    <tr>\n",
       "      <th>96</th>\n",
       "      <td>200901BS70123</td>\n",
       "      <td>07-02-2021</td>\n",
       "      <td>Saturday</td>\n",
       "      <td>Give way or uncontrolled</td>\n",
       "      <td>Crossroads</td>\n",
       "      <td>Minor</td>\n",
       "      <td>51.504966</td>\n",
       "      <td>-0.194000</td>\n",
       "      <td>Daylight</td>\n",
       "      <td>Kensington and Chelsea</td>\n",
       "      <td>...</td>\n",
       "      <td>1</td>\n",
       "      <td>1</td>\n",
       "      <td>Metropolitan Police</td>\n",
       "      <td>Dry</td>\n",
       "      <td>Single carriageway</td>\n",
       "      <td>30</td>\n",
       "      <td>13:15</td>\n",
       "      <td>Urban</td>\n",
       "      <td>Other</td>\n",
       "      <td>Cars</td>\n",
       "    </tr>\n",
       "    <tr>\n",
       "      <th>97</th>\n",
       "      <td>200901BS70124</td>\n",
       "      <td>17-03-2021</td>\n",
       "      <td>Tuesday</td>\n",
       "      <td>Auto traffic signal</td>\n",
       "      <td>Crossroads</td>\n",
       "      <td>Minor</td>\n",
       "      <td>51.495660</td>\n",
       "      <td>-0.173766</td>\n",
       "      <td>Darkness</td>\n",
       "      <td>Kensington and Chelsea</td>\n",
       "      <td>...</td>\n",
       "      <td>1</td>\n",
       "      <td>1</td>\n",
       "      <td>Metropolitan Police</td>\n",
       "      <td>Dry</td>\n",
       "      <td>Single carriageway</td>\n",
       "      <td>30</td>\n",
       "      <td>23:00</td>\n",
       "      <td>Urban</td>\n",
       "      <td>Clear</td>\n",
       "      <td>Cars</td>\n",
       "    </tr>\n",
       "    <tr>\n",
       "      <th>98</th>\n",
       "      <td>200901BS70126</td>\n",
       "      <td>24-02-2021</td>\n",
       "      <td>Tuesday</td>\n",
       "      <td>Give way or uncontrolled</td>\n",
       "      <td>T or staggered junction</td>\n",
       "      <td>Serious</td>\n",
       "      <td>51.490535</td>\n",
       "      <td>-0.173827</td>\n",
       "      <td>Daylight</td>\n",
       "      <td>Kensington and Chelsea</td>\n",
       "      <td>...</td>\n",
       "      <td>1</td>\n",
       "      <td>2</td>\n",
       "      <td>Metropolitan Police</td>\n",
       "      <td>Dry</td>\n",
       "      <td>Single carriageway</td>\n",
       "      <td>30</td>\n",
       "      <td>08:00</td>\n",
       "      <td>Urban</td>\n",
       "      <td>Clear</td>\n",
       "      <td>Public Transport</td>\n",
       "    </tr>\n",
       "    <tr>\n",
       "      <th>99</th>\n",
       "      <td>200901BS70128</td>\n",
       "      <td>20-03-2021</td>\n",
       "      <td>Friday</td>\n",
       "      <td>Give way or uncontrolled</td>\n",
       "      <td>T or staggered junction</td>\n",
       "      <td>Minor</td>\n",
       "      <td>51.486213</td>\n",
       "      <td>-0.173423</td>\n",
       "      <td>Daylight</td>\n",
       "      <td>Kensington and Chelsea</td>\n",
       "      <td>...</td>\n",
       "      <td>1</td>\n",
       "      <td>2</td>\n",
       "      <td>Metropolitan Police</td>\n",
       "      <td>Dry</td>\n",
       "      <td>Single carriageway</td>\n",
       "      <td>30</td>\n",
       "      <td>08:59</td>\n",
       "      <td>Urban</td>\n",
       "      <td>Clear</td>\n",
       "      <td>Vans and Goods Vehicles</td>\n",
       "    </tr>\n",
       "  </tbody>\n",
       "</table>\n",
       "<p>100 rows × 21 columns</p>\n",
       "</div>"
      ],
      "text/plain": [
       "   Accident_Index Accident Date Day_of_Week          Junction_Control  \\\n",
       "0   200901BS70001    01-01-2021    Thursday  Give way or uncontrolled   \n",
       "1   200901BS70002    05-01-2021      Monday  Give way or uncontrolled   \n",
       "2   200901BS70003    04-01-2021      Sunday  Give way or uncontrolled   \n",
       "3   200901BS70004    05-01-2021      Monday       Auto traffic signal   \n",
       "4   200901BS70005    06-01-2021     Tuesday       Auto traffic signal   \n",
       "..            ...           ...         ...                       ...   \n",
       "95  200901BS70122    04-03-2021   Wednesday       Auto traffic signal   \n",
       "96  200901BS70123    07-02-2021    Saturday  Give way or uncontrolled   \n",
       "97  200901BS70124    17-03-2021     Tuesday       Auto traffic signal   \n",
       "98  200901BS70126    24-02-2021     Tuesday  Give way or uncontrolled   \n",
       "99  200901BS70128    20-03-2021      Friday  Give way or uncontrolled   \n",
       "\n",
       "            Junction_Detail Accident_Severity   Latitude  Longitude  \\\n",
       "0   T or staggered junction           Serious  51.512273  -0.201349   \n",
       "1                Crossroads           Serious  51.514399  -0.199248   \n",
       "2   T or staggered junction             Minor  51.486668  -0.179599   \n",
       "3   T or staggered junction           Serious  51.507804  -0.203110   \n",
       "4                Crossroads           Serious  51.482076  -0.173445   \n",
       "..                      ...               ...        ...        ...   \n",
       "95  T or staggered junction             Minor  51.486622  -0.170814   \n",
       "96               Crossroads             Minor  51.504966  -0.194000   \n",
       "97               Crossroads             Minor  51.495660  -0.173766   \n",
       "98  T or staggered junction           Serious  51.490535  -0.173827   \n",
       "99  T or staggered junction             Minor  51.486213  -0.173423   \n",
       "\n",
       "   Light_Conditions Local_Authority_(District)  ... Number_of_Casualties  \\\n",
       "0          Daylight     Kensington and Chelsea  ...                    1   \n",
       "1          Daylight     Kensington and Chelsea  ...                   11   \n",
       "2          Daylight     Kensington and Chelsea  ...                    1   \n",
       "3          Daylight     Kensington and Chelsea  ...                    1   \n",
       "4          Darkness     Kensington and Chelsea  ...                    1   \n",
       "..              ...                        ...  ...                  ...   \n",
       "95         Daylight     Kensington and Chelsea  ...                    1   \n",
       "96         Daylight     Kensington and Chelsea  ...                    1   \n",
       "97         Darkness     Kensington and Chelsea  ...                    1   \n",
       "98         Daylight     Kensington and Chelsea  ...                    1   \n",
       "99         Daylight     Kensington and Chelsea  ...                    1   \n",
       "\n",
       "    Number_of_Vehicles         Police_Force Road_Surface_Conditions  \\\n",
       "0                    2  Metropolitan Police                     Dry   \n",
       "1                    2  Metropolitan Police                     Wet   \n",
       "2                    2  Metropolitan Police                     Dry   \n",
       "3                    2  Metropolitan Police                  Frosty   \n",
       "4                    2  Metropolitan Police                     Dry   \n",
       "..                 ...                  ...                     ...   \n",
       "95                   2  Metropolitan Police                     Wet   \n",
       "96                   1  Metropolitan Police                     Dry   \n",
       "97                   1  Metropolitan Police                     Dry   \n",
       "98                   2  Metropolitan Police                     Dry   \n",
       "99                   2  Metropolitan Police                     Dry   \n",
       "\n",
       "             Road_Type Speed_limit   Time Urban_or_Rural_Area  \\\n",
       "0       One way street          30  15:11               Urban   \n",
       "1   Single carriageway          30  10:59               Urban   \n",
       "2   Single carriageway          30  14:19               Urban   \n",
       "3   Single carriageway          30  08:10               Urban   \n",
       "4   Single carriageway          30  17:25               Urban   \n",
       "..                 ...         ...    ...                 ...   \n",
       "95  Single carriageway          30  07:05               Urban   \n",
       "96  Single carriageway          30  13:15               Urban   \n",
       "97  Single carriageway          30  23:00               Urban   \n",
       "98  Single carriageway          30  08:00               Urban   \n",
       "99  Single carriageway          30  08:59               Urban   \n",
       "\n",
       "   Weather_Conditions             Vehicle_Type  \n",
       "0               Clear                     Cars  \n",
       "1               Clear                     Cars  \n",
       "2               Clear                     Cars  \n",
       "3               Other        Heavy Motorcycles  \n",
       "4               Clear                     Cars  \n",
       "..                ...                      ...  \n",
       "95              Clear                     Cars  \n",
       "96              Other                     Cars  \n",
       "97              Clear                     Cars  \n",
       "98              Clear         Public Transport  \n",
       "99              Clear  Vans and Goods Vehicles  \n",
       "\n",
       "[100 rows x 21 columns]"
      ]
     },
     "execution_count": 5,
     "metadata": {},
     "output_type": "execute_result"
    }
   ],
   "source": [
    "data.head(100)"
   ]
  },
  {
   "cell_type": "code",
   "execution_count": 6,
   "metadata": {},
   "outputs": [
    {
     "name": "stdout",
     "output_type": "stream",
     "text": [
      "<class 'pandas.core.frame.DataFrame'>\n",
      "RangeIndex: 307973 entries, 0 to 307972\n",
      "Data columns (total 21 columns):\n",
      " #   Column                      Non-Null Count   Dtype  \n",
      "---  ------                      --------------   -----  \n",
      " 0   Accident_Index              307972 non-null  object \n",
      " 1   Accident Date               307973 non-null  object \n",
      " 2   Day_of_Week                 307973 non-null  object \n",
      " 3   Junction_Control            307973 non-null  object \n",
      " 4   Junction_Detail             307973 non-null  object \n",
      " 5   Accident_Severity           307973 non-null  object \n",
      " 6   Latitude                    307973 non-null  float64\n",
      " 7   Longitude                   307973 non-null  float64\n",
      " 8   Light_Conditions            307973 non-null  object \n",
      " 9   Local_Authority_(District)  307973 non-null  object \n",
      " 10  Carriageway_Hazards         307973 non-null  object \n",
      " 11  Number_of_Casualties        307973 non-null  int64  \n",
      " 12  Number_of_Vehicles          307973 non-null  int64  \n",
      " 13  Police_Force                307973 non-null  object \n",
      " 14  Road_Surface_Conditions     307973 non-null  object \n",
      " 15  Road_Type                   306448 non-null  object \n",
      " 16  Speed_limit                 307973 non-null  int64  \n",
      " 17  Time                        307973 non-null  object \n",
      " 18  Urban_or_Rural_Area         307973 non-null  object \n",
      " 19  Weather_Conditions          307973 non-null  object \n",
      " 20  Vehicle_Type                307973 non-null  object \n",
      "dtypes: float64(2), int64(3), object(16)\n",
      "memory usage: 49.3+ MB\n"
     ]
    }
   ],
   "source": [
    "data.info()"
   ]
  },
  {
   "cell_type": "code",
   "execution_count": 7,
   "metadata": {},
   "outputs": [],
   "source": [
    "data['Accident Date'] = pd.to_datetime(data['Accident Date'],format = \"%d-%m-%Y\")\n",
    "data['Time'] = pd.to_datetime(data['Time'],format='%H:%M')"
   ]
  },
  {
   "cell_type": "code",
   "execution_count": 8,
   "metadata": {},
   "outputs": [
    {
     "name": "stdout",
     "output_type": "stream",
     "text": [
      "<class 'pandas.core.frame.DataFrame'>\n",
      "RangeIndex: 307973 entries, 0 to 307972\n",
      "Data columns (total 21 columns):\n",
      " #   Column                      Non-Null Count   Dtype         \n",
      "---  ------                      --------------   -----         \n",
      " 0   Accident_Index              307972 non-null  object        \n",
      " 1   Accident Date               307973 non-null  datetime64[ns]\n",
      " 2   Day_of_Week                 307973 non-null  object        \n",
      " 3   Junction_Control            307973 non-null  object        \n",
      " 4   Junction_Detail             307973 non-null  object        \n",
      " 5   Accident_Severity           307973 non-null  object        \n",
      " 6   Latitude                    307973 non-null  float64       \n",
      " 7   Longitude                   307973 non-null  float64       \n",
      " 8   Light_Conditions            307973 non-null  object        \n",
      " 9   Local_Authority_(District)  307973 non-null  object        \n",
      " 10  Carriageway_Hazards         307973 non-null  object        \n",
      " 11  Number_of_Casualties        307973 non-null  int64         \n",
      " 12  Number_of_Vehicles          307973 non-null  int64         \n",
      " 13  Police_Force                307973 non-null  object        \n",
      " 14  Road_Surface_Conditions     307973 non-null  object        \n",
      " 15  Road_Type                   306448 non-null  object        \n",
      " 16  Speed_limit                 307973 non-null  int64         \n",
      " 17  Time                        307973 non-null  datetime64[ns]\n",
      " 18  Urban_or_Rural_Area         307973 non-null  object        \n",
      " 19  Weather_Conditions          307973 non-null  object        \n",
      " 20  Vehicle_Type                307973 non-null  object        \n",
      "dtypes: datetime64[ns](2), float64(2), int64(3), object(14)\n",
      "memory usage: 49.3+ MB\n"
     ]
    }
   ],
   "source": [
    "data.info()"
   ]
  },
  {
   "cell_type": "code",
   "execution_count": 9,
   "metadata": {},
   "outputs": [
    {
     "data": {
      "text/plain": [
       "Accident_Index                   1\n",
       "Accident Date                    0\n",
       "Day_of_Week                      0\n",
       "Junction_Control                 0\n",
       "Junction_Detail                  0\n",
       "Accident_Severity                0\n",
       "Latitude                         0\n",
       "Longitude                        0\n",
       "Light_Conditions                 0\n",
       "Local_Authority_(District)       0\n",
       "Carriageway_Hazards              0\n",
       "Number_of_Casualties             0\n",
       "Number_of_Vehicles               0\n",
       "Police_Force                     0\n",
       "Road_Surface_Conditions          0\n",
       "Road_Type                     1525\n",
       "Speed_limit                      0\n",
       "Time                             0\n",
       "Urban_or_Rural_Area              0\n",
       "Weather_Conditions               0\n",
       "Vehicle_Type                     0\n",
       "dtype: int64"
      ]
     },
     "execution_count": 9,
     "metadata": {},
     "output_type": "execute_result"
    }
   ],
   "source": [
    "data.isnull().sum()\n",
    "# Data set has 1525 Null value in Road_Type column and 1 Accident_Index column which is null. "
   ]
  },
  {
   "cell_type": "code",
   "execution_count": 10,
   "metadata": {},
   "outputs": [],
   "source": [
    "data['Road_Type'].replace('null', np.nan, inplace=True)\n",
    "data['Road_Type'].fillna(data['Road_Type'].mode().iloc[0], inplace=True)"
   ]
  },
  {
   "cell_type": "code",
   "execution_count": 11,
   "metadata": {},
   "outputs": [
    {
     "data": {
      "text/plain": [
       "Accident_Index                1\n",
       "Accident Date                 0\n",
       "Day_of_Week                   0\n",
       "Junction_Control              0\n",
       "Junction_Detail               0\n",
       "Accident_Severity             0\n",
       "Latitude                      0\n",
       "Longitude                     0\n",
       "Light_Conditions              0\n",
       "Local_Authority_(District)    0\n",
       "Carriageway_Hazards           0\n",
       "Number_of_Casualties          0\n",
       "Number_of_Vehicles            0\n",
       "Police_Force                  0\n",
       "Road_Surface_Conditions       0\n",
       "Road_Type                     0\n",
       "Speed_limit                   0\n",
       "Time                          0\n",
       "Urban_or_Rural_Area           0\n",
       "Weather_Conditions            0\n",
       "Vehicle_Type                  0\n",
       "dtype: int64"
      ]
     },
     "execution_count": 11,
     "metadata": {},
     "output_type": "execute_result"
    }
   ],
   "source": [
    "data.isnull().sum()"
   ]
  },
  {
   "cell_type": "code",
   "execution_count": 12,
   "metadata": {},
   "outputs": [
    {
     "data": {
      "text/plain": [
       "Weather_Conditions\n",
       "Clear      247644\n",
       "Raining     38403\n",
       "Other       14859\n",
       "Snowy        5377\n",
       "Foggy        1690\n",
       "Name: count, dtype: int64"
      ]
     },
     "execution_count": 12,
     "metadata": {},
     "output_type": "execute_result"
    }
   ],
   "source": [
    "data['Weather_Conditions'].value_counts()"
   ]
  },
  {
   "cell_type": "code",
   "execution_count": 13,
   "metadata": {},
   "outputs": [
    {
     "data": {
      "text/plain": [
       "Vehicle_Type\n",
       "Cars                       245337\n",
       "Vans and Goods Vehicles     24729\n",
       "Heavy Motorcycles           14511\n",
       "Small Vehicles              10555\n",
       "Public Transport             9507\n",
       "Other vehicle                2516\n",
       "Specialized Vehicles          752\n",
       "Bicycle                        66\n",
       "Name: count, dtype: int64"
      ]
     },
     "execution_count": 13,
     "metadata": {},
     "output_type": "execute_result"
    }
   ],
   "source": [
    "data['Vehicle_Type'].value_counts()"
   ]
  },
  {
   "cell_type": "code",
   "execution_count": 15,
   "metadata": {},
   "outputs": [
    {
     "data": {
      "text/plain": [
       "Index(['Accident_Index', 'Accident Date', 'Day_of_Week', 'Junction_Control',\n",
       "       'Junction_Detail', 'Accident_Severity', 'Latitude', 'Longitude',\n",
       "       'Light_Conditions', 'Local_Authority_(District)', 'Carriageway_Hazards',\n",
       "       'Number_of_Casualties', 'Number_of_Vehicles', 'Police_Force',\n",
       "       'Road_Surface_Conditions', 'Road_Type', 'Speed_limit', 'Time',\n",
       "       'Urban_or_Rural_Area', 'Weather_Conditions', 'Vehicle_Type'],\n",
       "      dtype='object')"
      ]
     },
     "execution_count": 15,
     "metadata": {},
     "output_type": "execute_result"
    }
   ],
   "source": [
    "data.columns"
   ]
  },
  {
   "cell_type": "code",
   "execution_count": 18,
   "metadata": {
    "scrolled": false
   },
   "outputs": [
    {
     "data": {
      "text/plain": [
       "Speed_limit\n",
       "30    200040\n",
       "60     46826\n",
       "40     25650\n",
       "70     22362\n",
       "50     10191\n",
       "20      2899\n",
       "10         3\n",
       "15         2\n",
       "Name: count, dtype: int64"
      ]
     },
     "execution_count": 18,
     "metadata": {},
     "output_type": "execute_result"
    }
   ],
   "source": [
    "data['Speed_limit'].value_counts()"
   ]
  },
  {
   "cell_type": "markdown",
   "metadata": {},
   "source": [
    "# Data Analysis part \n",
    "1. Percentage contribution of each severity to the accidents.\n",
    "2. Weekly count of accidents and show that on a graph(histogram)\n",
    "3. Calculate the average casulality at different range of Speed_limit\n",
    "\n",
    "### Temporal Analysis:\n",
    "1. Distribution of accidents over days of the week and months.\n",
    "2. Distribution of accidents over different times and are there specific times fo the day when accidents are more likely to occur?\n",
    "\n",
    "### Geospatial Analysis:\n",
    "1. Location and region with higher incidence of accidents\n",
    "2. Specific junstion types or road conditions associb\n",
    "### Severity Analysis:\n",
    "1. What is the distribution of accidents severity?\n"
   ]
  },
  {
   "cell_type": "code",
   "execution_count": 19,
   "metadata": {},
   "outputs": [
    {
     "data": {
      "text/plain": [
       "Accident_Severity\n",
       "Minor      85.49\n",
       "Serious    13.23\n",
       "Fatal       1.28\n",
       "Name: count, dtype: float64"
      ]
     },
     "execution_count": 19,
     "metadata": {},
     "output_type": "execute_result"
    }
   ],
   "source": [
    "total_accidents = data['Accident_Severity'].count()\n",
    "severity_counts = data['Accident_Severity'].value_counts()\n",
    "percentage_Contribution= (severity_counts/total_accidents)*100\n",
    "percentage_Contribution.round(2)"
   ]
  },
  {
   "cell_type": "code",
   "execution_count": 56,
   "metadata": {},
   "outputs": [
    {
     "data": {
      "image/png": "[encoded data removed]",
      "text/plain": [
       "<Figure size 640x480 with 1 Axes>"
      ]
     },
     "metadata": {},
     "output_type": "display_data"
    },
    {
     "data": {
      "text/plain": [
       "<Figure size 2000x2000 with 0 Axes>"
      ]
     },
     "metadata": {},
     "output_type": "display_data"
    }
   ],
   "source": [
    "\n",
    "\n",
    "mylabels = ['Minor','Serious','Fatal']\n",
    "plt.title('Percentage Accident Severity',fontdict={'fontsize':20})\n",
    "plt.pie(data['Accident_Severity'].value_counts(),labels = mylabels,startangle = 0,autopct=lambda p: '{:.1f}%'.format(p) if p > 0 else '',\n",
    "       textprops={'color': 'Black', 'fontsize': 10, 'weight': 'bold', 'horizontalalignment': 'center', 'verticalalignment': 'center'})\n",
    "plt.figure(figsize=[20,20])\n",
    "\n",
    "plt.show()\n",
    "\n"
   ]
  },
  {
   "cell_type": "code",
   "execution_count": 59,
   "metadata": {},
   "outputs": [],
   "source": [
    "data.to_csv('C:/Users/zeus/Desktop/Git Repositories/Road_Accidents/Updated Road Accident Data.csv')"
   ]
  },
  {
   "cell_type": "code",
   "execution_count": 58,
   "metadata": {},
   "outputs": [
    {
     "data": {
      "text/plain": [
       "Accident_Index                1\n",
       "Accident Date                 0\n",
       "Day_of_Week                   0\n",
       "Junction_Control              0\n",
       "Junction_Detail               0\n",
       "Accident_Severity             0\n",
       "Latitude                      0\n",
       "Longitude                     0\n",
       "Light_Conditions              0\n",
       "Local_Authority_(District)    0\n",
       "Carriageway_Hazards           0\n",
       "Number_of_Casualties          0\n",
       "Number_of_Vehicles            0\n",
       "Police_Force                  0\n",
       "Road_Surface_Conditions       0\n",
       "Road_Type                     0\n",
       "Speed_limit                   0\n",
       "Time                          0\n",
       "Urban_or_Rural_Area           0\n",
       "Weather_Conditions            0\n",
       "Vehicle_Type                  0\n",
       "dtype: int64"
      ]
     },
     "execution_count": 58,
     "metadata": {},
     "output_type": "execute_result"
    }
   ],
   "source": []
  },
  {
   "cell_type": "code",
   "execution_count": null,
   "metadata": {},
   "outputs": [],
   "source": []
  },
  {
   "cell_type": "code",
   "execution_count": null,
   "metadata": {},
   "outputs": [],
   "source": []
  },
  {
   "cell_type": "code",
   "execution_count": null,
   "metadata": {},
   "outputs": [],
   "source": []
  },
  {
   "cell_type": "code",
   "execution_count": null,
   "metadata": {},
   "outputs": [],
   "source": []
  }
 ],
 "metadata": {
  "kernelspec": {
   "display_name": "Python 3 (ipykernel)",
   "language": "python",
   "name": "python3"
  },
  "language_info": {
   "codemirror_mode": {
    "name": "ipython",
    "version": 3
   },
   "file_extension": ".py",
   "mimetype": "text/x-python",
   "name": "python",
   "nbconvert_exporter": "python",
   "pygments_lexer": "ipython3",
   "version": "3.11.5"
  }
 },
 "nbformat": 4,
 "nbformat_minor": 2
}
